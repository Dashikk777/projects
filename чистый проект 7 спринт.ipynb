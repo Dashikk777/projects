{
 "cells": [
  {
   "cell_type": "markdown",
   "id": "a320d254-67e2-4e18-a56e-b40fd0639f60",
   "metadata": {
    "slideshow": {
     "slide_type": ""
    },
    "tags": []
   },
   "source": [
    "# Проект 7 спринта. Предобработка данных игровой индустрии в начале XXI века.\n",
    "<h2><i><span style=\"color: blue\"> Автор: Луганская Дарья Андреевна </span></i></h2>\n",
    "\n",
    "\n",
    "<i>Дата: 23.01.2025</i>"
   ]
  },
  {
   "cell_type": "markdown",
   "id": "b6ec0e48-a1d9-4351-8069-51d74ad541d8",
   "metadata": {},
   "source": [
    "### 0.1 Цели и задачи проекта\n",
    "<u><b>Наша цель</u></b> - обзор игровых платформ, изучение объёмов продаж игр разных жанров и региональных предпочтений игроков. \n",
    "\n",
    "<u><b>Задачи проекта</u></b>: \\\n",
    "--определить представленные типы данных, и при необходимости их скорректировать.\\\n",
    "--определить пропущенные значения в данных и при необходимости предобработать их.\\\n",
    "--получить необходимый срез данных с помощью агрегации и фильтрации.\n",
    "\n",
    "<u><b>Схема работы:</u></b> \\\n",
    "Познакомиться с данными ===> Проверить их корректность ===> Провести предобработку ===> Получить необходимый срез данных."
   ]
  },
  {
   "cell_type": "markdown",
   "id": "772a5866-7fcc-4846-a142-1ea91bfa1ab1",
   "metadata": {},
   "source": [
    "### 0.2 Описание данных\n",
    "\n",
    "Мы используем датасет /datasets/new_games.csv , который содержит информацию о продажах игр разных жанров и платформ, а также пользовательские и экспертные оценки игр.\n",
    "\n",
    "<i>`Name`</i> — название игры.\\\n",
    "<i>`Platform`</i> — название платформы.\\\n",
    "<i>`Year of Release`</i> — год выпуска игры.\\\n",
    "<i>`Genre`</i> — жанр игры.\\\n",
    "<i>`NA sales`</i> — продажи в Северной Америке (в миллионах проданных копий).\\\n",
    "<i>`EU sales`</i> — продажи в Европе (в миллионах проданных копий).\\\n",
    "<i>`JP sales`</i> — продажи в Японии (в миллионах проданных копий).\\\n",
    "<i>`Other sales`</i> — продажи в других странах (в миллионах проданных копий).\\\n",
    "<i>`Critic Score`</i> — оценка критиков (от 0 до 100).\\\n",
    "<i>`User Score`</i> — оценка пользователей (от 0 до 10).\\\n",
    "<i>`Rating`</i> — рейтинг организации ESRB (англ. Entertainment Software Rating Board). Эта ассоциация определяет рейтинг компьютерных игр и присваивает им подходящую возрастную категорию."
   ]
  },
  {
   "cell_type": "markdown",
   "id": "f918159a-2f05-4d34-94ec-4eb3d82c7c98",
   "metadata": {},
   "source": [
    "### 0.3 Содержимое проекта\n",
    "\n",
    "1. Проверка ошибок в данных и их предобработка\n",
    "2. Фильтрация данных\n",
    "3. Категоризация данных"
   ]
  },
  {
   "cell_type": "markdown",
   "id": "27846187-2016-44eb-99b5-eef655494bee",
   "metadata": {},
   "source": [
    "## 1. Загрузка данных и знакомство с ними"
   ]
  },
  {
   "cell_type": "code",
   "execution_count": 7,
   "id": "d6acfbd5-9b45-4363-832c-112ee3be5665",
   "metadata": {},
   "outputs": [],
   "source": [
    "import pandas as pd\n",
    "import numpy as np #Подгружаем библиотеки"
   ]
  },
  {
   "cell_type": "code",
   "execution_count": 12,
   "id": "4e72be40-7cf3-4d27-8291-f614f6c37d89",
   "metadata": {},
   "outputs": [],
   "source": [
    "df = pd.read_csv('https://code.s3.yandex.net/datasets/new_games.csv') #Сохраняем датафрейм"
   ]
  },
  {
   "cell_type": "code",
   "execution_count": 16,
   "id": "0f456037-e5ea-4ec4-867b-df3fd666d93e",
   "metadata": {},
   "outputs": [
    {
     "name": "stdout",
     "output_type": "stream",
     "text": [
      "<class 'pandas.core.frame.DataFrame'>\n",
      "RangeIndex: 16956 entries, 0 to 16955\n",
      "Data columns (total 11 columns):\n",
      " #   Column           Non-Null Count  Dtype  \n",
      "---  ------           --------------  -----  \n",
      " 0   Name             16954 non-null  object \n",
      " 1   Platform         16956 non-null  object \n",
      " 2   Year of Release  16681 non-null  float64\n",
      " 3   Genre            16954 non-null  object \n",
      " 4   NA sales         16956 non-null  float64\n",
      " 5   EU sales         16956 non-null  object \n",
      " 6   JP sales         16956 non-null  object \n",
      " 7   Other sales      16956 non-null  float64\n",
      " 8   Critic Score     8242 non-null   float64\n",
      " 9   User Score       10152 non-null  object \n",
      " 10  Rating           10085 non-null  object \n",
      "dtypes: float64(4), object(7)\n",
      "memory usage: 1.4+ MB\n"
     ]
    }
   ],
   "source": [
    "df.info() #Выводим инфо о датафрейме (количество строк, столбцов, их наимаенование и количество не пустых значений в каждом из них, а также тип данных)"
   ]
  },
  {
   "cell_type": "code",
   "execution_count": 17,
   "id": "c9beb404-bfd6-4726-834e-0423682c4733",
   "metadata": {},
   "outputs": [
    {
     "data": {
      "text/plain": [
       "Name                  2\n",
       "Platform              0\n",
       "Year of Release     275\n",
       "Genre                 2\n",
       "NA sales              0\n",
       "EU sales              0\n",
       "JP sales              0\n",
       "Other sales           0\n",
       "Critic Score       8714\n",
       "User Score         6804\n",
       "Rating             6871\n",
       "dtype: int64"
      ]
     },
     "execution_count": 17,
     "metadata": {},
     "output_type": "execute_result"
    }
   ],
   "source": [
    "df.isna().sum() #Количество пустых ячеек в каждом столбце"
   ]
  },
  {
   "cell_type": "code",
   "execution_count": 211,
   "id": "82eff533-6ab9-44bc-bd57-0452cbcf6f70",
   "metadata": {},
   "outputs": [
    {
     "data": {
      "text/html": [
       "<div>\n",
       "<style scoped>\n",
       "    .dataframe tbody tr th:only-of-type {\n",
       "        vertical-align: middle;\n",
       "    }\n",
       "\n",
       "    .dataframe tbody tr th {\n",
       "        vertical-align: top;\n",
       "    }\n",
       "\n",
       "    .dataframe thead th {\n",
       "        text-align: right;\n",
       "    }\n",
       "</style>\n",
       "<table border=\"1\" class=\"dataframe\">\n",
       "  <thead>\n",
       "    <tr style=\"text-align: right;\">\n",
       "      <th></th>\n",
       "      <th>name</th>\n",
       "      <th>platform</th>\n",
       "      <th>year_of_release</th>\n",
       "      <th>genre</th>\n",
       "      <th>na_sales</th>\n",
       "      <th>eu_sales</th>\n",
       "      <th>jp_sales</th>\n",
       "      <th>other_sales</th>\n",
       "      <th>critic_score</th>\n",
       "      <th>user_score</th>\n",
       "      <th>rating</th>\n",
       "      <th>year_group</th>\n",
       "    </tr>\n",
       "  </thead>\n",
       "  <tbody>\n",
       "    <tr>\n",
       "      <th>0</th>\n",
       "      <td>Wii Sports</td>\n",
       "      <td>Wii</td>\n",
       "      <td>2006</td>\n",
       "      <td>sports</td>\n",
       "      <td>41.36</td>\n",
       "      <td>28.96</td>\n",
       "      <td>3.77</td>\n",
       "      <td>8.45</td>\n",
       "      <td>76.0</td>\n",
       "      <td>8.0</td>\n",
       "      <td>E</td>\n",
       "      <td>00e</td>\n",
       "    </tr>\n",
       "    <tr>\n",
       "      <th>1</th>\n",
       "      <td>Super Mario Bros.</td>\n",
       "      <td>NES</td>\n",
       "      <td>1985</td>\n",
       "      <td>platform</td>\n",
       "      <td>29.08</td>\n",
       "      <td>3.58</td>\n",
       "      <td>6.81</td>\n",
       "      <td>0.77</td>\n",
       "      <td>-1.0</td>\n",
       "      <td>-1.0</td>\n",
       "      <td>nan</td>\n",
       "      <td>80e</td>\n",
       "    </tr>\n",
       "    <tr>\n",
       "      <th>2</th>\n",
       "      <td>Mario Kart Wii</td>\n",
       "      <td>Wii</td>\n",
       "      <td>2008</td>\n",
       "      <td>racing</td>\n",
       "      <td>15.68</td>\n",
       "      <td>12.76</td>\n",
       "      <td>3.79</td>\n",
       "      <td>3.29</td>\n",
       "      <td>82.0</td>\n",
       "      <td>8.3</td>\n",
       "      <td>E</td>\n",
       "      <td>00e</td>\n",
       "    </tr>\n",
       "    <tr>\n",
       "      <th>3</th>\n",
       "      <td>Wii Sports Resort</td>\n",
       "      <td>Wii</td>\n",
       "      <td>2009</td>\n",
       "      <td>sports</td>\n",
       "      <td>15.61</td>\n",
       "      <td>10.93</td>\n",
       "      <td>3.28</td>\n",
       "      <td>2.95</td>\n",
       "      <td>80.0</td>\n",
       "      <td>8.0</td>\n",
       "      <td>E</td>\n",
       "      <td>00e</td>\n",
       "    </tr>\n",
       "    <tr>\n",
       "      <th>4</th>\n",
       "      <td>Pokemon Red/Pokemon Blue</td>\n",
       "      <td>GB</td>\n",
       "      <td>1996</td>\n",
       "      <td>role-playing</td>\n",
       "      <td>11.27</td>\n",
       "      <td>8.89</td>\n",
       "      <td>10.22</td>\n",
       "      <td>1.00</td>\n",
       "      <td>-1.0</td>\n",
       "      <td>-1.0</td>\n",
       "      <td>nan</td>\n",
       "      <td>90e</td>\n",
       "    </tr>\n",
       "  </tbody>\n",
       "</table>\n",
       "</div>"
      ],
      "text/plain": [
       "                       name platform year_of_release         genre  na_sales  \\\n",
       "0                Wii Sports      Wii            2006        sports     41.36   \n",
       "1         Super Mario Bros.      NES            1985      platform     29.08   \n",
       "2            Mario Kart Wii      Wii            2008        racing     15.68   \n",
       "3         Wii Sports Resort      Wii            2009        sports     15.61   \n",
       "4  Pokemon Red/Pokemon Blue       GB            1996  role-playing     11.27   \n",
       "\n",
       "   eu_sales  jp_sales  other_sales  critic_score  user_score rating year_group  \n",
       "0     28.96      3.77         8.45          76.0         8.0      E        00e  \n",
       "1      3.58      6.81         0.77          -1.0        -1.0    nan        80e  \n",
       "2     12.76      3.79         3.29          82.0         8.3      E        00e  \n",
       "3     10.93      3.28         2.95          80.0         8.0      E        00e  \n",
       "4      8.89     10.22         1.00          -1.0        -1.0    nan        90e  "
      ]
     },
     "execution_count": 211,
     "metadata": {},
     "output_type": "execute_result"
    }
   ],
   "source": [
    "df.head() #Выводим первые 5 строк датасета"
   ]
  },
  {
   "cell_type": "code",
   "execution_count": 213,
   "id": "2c6596b6-a949-42e2-bd5d-f258befdbdcc",
   "metadata": {
    "scrolled": true
   },
   "outputs": [
    {
     "data": {
      "text/html": [
       "<div>\n",
       "<style scoped>\n",
       "    .dataframe tbody tr th:only-of-type {\n",
       "        vertical-align: middle;\n",
       "    }\n",
       "\n",
       "    .dataframe tbody tr th {\n",
       "        vertical-align: top;\n",
       "    }\n",
       "\n",
       "    .dataframe thead th {\n",
       "        text-align: right;\n",
       "    }\n",
       "</style>\n",
       "<table border=\"1\" class=\"dataframe\">\n",
       "  <thead>\n",
       "    <tr style=\"text-align: right;\">\n",
       "      <th></th>\n",
       "      <th>name</th>\n",
       "      <th>platform</th>\n",
       "      <th>year_of_release</th>\n",
       "      <th>genre</th>\n",
       "      <th>na_sales</th>\n",
       "      <th>eu_sales</th>\n",
       "      <th>jp_sales</th>\n",
       "      <th>other_sales</th>\n",
       "      <th>critic_score</th>\n",
       "      <th>user_score</th>\n",
       "      <th>rating</th>\n",
       "      <th>year_group</th>\n",
       "    </tr>\n",
       "  </thead>\n",
       "  <tbody>\n",
       "    <tr>\n",
       "      <th>16951</th>\n",
       "      <td>Samurai Warriors: Sanada Maru</td>\n",
       "      <td>PS3</td>\n",
       "      <td>2016</td>\n",
       "      <td>action</td>\n",
       "      <td>0.00</td>\n",
       "      <td>0.00</td>\n",
       "      <td>0.01</td>\n",
       "      <td>0.0</td>\n",
       "      <td>-1.0</td>\n",
       "      <td>-1.0</td>\n",
       "      <td>nan</td>\n",
       "      <td>10e</td>\n",
       "    </tr>\n",
       "    <tr>\n",
       "      <th>16952</th>\n",
       "      <td>LMA Manager 2007</td>\n",
       "      <td>X360</td>\n",
       "      <td>2006</td>\n",
       "      <td>sports</td>\n",
       "      <td>0.00</td>\n",
       "      <td>0.01</td>\n",
       "      <td>0.00</td>\n",
       "      <td>0.0</td>\n",
       "      <td>-1.0</td>\n",
       "      <td>-1.0</td>\n",
       "      <td>nan</td>\n",
       "      <td>00e</td>\n",
       "    </tr>\n",
       "    <tr>\n",
       "      <th>16953</th>\n",
       "      <td>Haitaka no Psychedelica</td>\n",
       "      <td>PSV</td>\n",
       "      <td>2016</td>\n",
       "      <td>adventure</td>\n",
       "      <td>0.00</td>\n",
       "      <td>0.00</td>\n",
       "      <td>0.01</td>\n",
       "      <td>0.0</td>\n",
       "      <td>-1.0</td>\n",
       "      <td>-1.0</td>\n",
       "      <td>nan</td>\n",
       "      <td>10e</td>\n",
       "    </tr>\n",
       "    <tr>\n",
       "      <th>16954</th>\n",
       "      <td>Spirits &amp; Spells</td>\n",
       "      <td>GBA</td>\n",
       "      <td>2003</td>\n",
       "      <td>platform</td>\n",
       "      <td>0.01</td>\n",
       "      <td>0.00</td>\n",
       "      <td>0.00</td>\n",
       "      <td>0.0</td>\n",
       "      <td>-1.0</td>\n",
       "      <td>-1.0</td>\n",
       "      <td>nan</td>\n",
       "      <td>00e</td>\n",
       "    </tr>\n",
       "    <tr>\n",
       "      <th>16955</th>\n",
       "      <td>Winning Post 8 2016</td>\n",
       "      <td>PSV</td>\n",
       "      <td>2016</td>\n",
       "      <td>simulation</td>\n",
       "      <td>0.00</td>\n",
       "      <td>0.00</td>\n",
       "      <td>0.01</td>\n",
       "      <td>0.0</td>\n",
       "      <td>-1.0</td>\n",
       "      <td>-1.0</td>\n",
       "      <td>nan</td>\n",
       "      <td>10e</td>\n",
       "    </tr>\n",
       "  </tbody>\n",
       "</table>\n",
       "</div>"
      ],
      "text/plain": [
       "                                name platform year_of_release       genre  \\\n",
       "16951  Samurai Warriors: Sanada Maru      PS3            2016      action   \n",
       "16952               LMA Manager 2007     X360            2006      sports   \n",
       "16953        Haitaka no Psychedelica      PSV            2016   adventure   \n",
       "16954               Spirits & Spells      GBA            2003    platform   \n",
       "16955            Winning Post 8 2016      PSV            2016  simulation   \n",
       "\n",
       "       na_sales  eu_sales  jp_sales  other_sales  critic_score  user_score  \\\n",
       "16951      0.00      0.00      0.01          0.0          -1.0        -1.0   \n",
       "16952      0.00      0.01      0.00          0.0          -1.0        -1.0   \n",
       "16953      0.00      0.00      0.01          0.0          -1.0        -1.0   \n",
       "16954      0.01      0.00      0.00          0.0          -1.0        -1.0   \n",
       "16955      0.00      0.00      0.01          0.0          -1.0        -1.0   \n",
       "\n",
       "      rating year_group  \n",
       "16951    nan        10e  \n",
       "16952    nan        00e  \n",
       "16953    nan        10e  \n",
       "16954    nan        00e  \n",
       "16955    nan        10e  "
      ]
     },
     "execution_count": 213,
     "metadata": {},
     "output_type": "execute_result"
    }
   ],
   "source": [
    "df.tail() #Выводим последние 5 строк датасета"
   ]
  },
  {
   "cell_type": "code",
   "execution_count": 20,
   "id": "0737035d-d67f-46ca-ab97-65b6a30b29ae",
   "metadata": {},
   "outputs": [
    {
     "data": {
      "text/plain": [
       "(16956, 11)"
      ]
     },
     "execution_count": 20,
     "metadata": {},
     "output_type": "execute_result"
    }
   ],
   "source": [
    "df.shape #выводим размер датасета(первый элемент кортежа представляет количество строк, а второй - столбцов)"
   ]
  },
  {
   "cell_type": "markdown",
   "id": "5129ff7b-2656-4bfe-bfa3-63f466583ce2",
   "metadata": {},
   "source": [
    "Датасет представлен 16956 строками и 11 столбцами. Представленные данные соответствуют заявленному описанию столбцов. Полные данные представлены лишь в 5 столбцах - платформа и сумма продаж на разных территориях. Пропуски присутствуют в 6 столбцах. Типы данных в EU sales,\tJP sales,  User Score,\tRating приведены неверно: вместо float представлен тип object, который хранит и строковые и числовые значения. Наименования столбцов корректно отражают содержимое, однако для комфортной работы следует привести названия в питонический стиль с _ вместо пробелов."
   ]
  },
  {
   "cell_type": "markdown",
   "id": "843da19f-29d5-402a-8636-73dac3852e37",
   "metadata": {},
   "source": [
    "## 2.  Проверка ошибок в данных и их предобработка\n",
    "\n",
    "\n",
    "### 2.1. Названия, или метки, столбцов датафрейма"
   ]
  },
  {
   "cell_type": "code",
   "execution_count": 26,
   "id": "5b5c0890",
   "metadata": {},
   "outputs": [],
   "source": [
    "rename_map = {\n",
    "    'Name': 'name',\n",
    "    'Platform': 'platform',\n",
    "    'Year of Release': 'year_of_release',\n",
    "    'Genre': 'genre',\n",
    "    'NA sales': 'na_sales',\n",
    "    'EU sales': 'eu_sales',\n",
    "    'JP sales': 'jp_sales',\n",
    "    'Other sales': 'other_sales',\n",
    "    'Critic Score': 'critic_score',\n",
    "    'User Score': 'user_score',\n",
    "    'Rating': 'rating'\n",
    "}\n",
    "\n",
    "df.rename(columns=rename_map, inplace=True) \n",
    "#Переводим названия столбцов в питонический стиль написания, присвоив каждому столбцу новые названия"
   ]
  },
  {
   "cell_type": "code",
   "execution_count": 30,
   "id": "82807117-412e-4a94-885d-ddc2ec720674",
   "metadata": {},
   "outputs": [
    {
     "data": {
      "text/plain": [
       "Index(['name', 'platform', 'year_of_release', 'genre', 'na_sales', 'eu_sales',\n",
       "       'jp_sales', 'other_sales', 'critic_score', 'user_score', 'rating'],\n",
       "      dtype='object')"
      ]
     },
     "execution_count": 30,
     "metadata": {},
     "output_type": "execute_result"
    }
   ],
   "source": [
    "df.columns #Проверяем, что новые наименования столбцов отобразились в исходных данных"
   ]
  },
  {
   "cell_type": "markdown",
   "id": "a280c520-ca5d-46cf-aec4-fbb4cdcd7431",
   "metadata": {},
   "source": [
    "### 2.2. Типы данных"
   ]
  },
  {
   "cell_type": "code",
   "execution_count": 36,
   "id": "045ee573",
   "metadata": {},
   "outputs": [
    {
     "data": {
      "text/plain": [
       "name                object\n",
       "platform            object\n",
       "year_of_release    float64\n",
       "genre               object\n",
       "na_sales           float64\n",
       "eu_sales            object\n",
       "jp_sales            object\n",
       "other_sales        float64\n",
       "critic_score       float64\n",
       "user_score          object\n",
       "rating              object\n",
       "dtype: object"
      ]
     },
     "execution_count": 36,
     "metadata": {},
     "output_type": "execute_result"
    }
   ],
   "source": [
    "df.dtypes #Выводим типы данных в столбцах. \n",
    "#Следует заметить ошибочный тип данных в столбцах eu_sales,jp_sales,user_score - вместо числового типа данных присвоен тип object"
   ]
  },
  {
   "cell_type": "code",
   "execution_count": 39,
   "id": "1bf88f27",
   "metadata": {},
   "outputs": [
    {
     "name": "stdout",
     "output_type": "stream",
     "text": [
      "Уникальные значения в столбце 'eu_sales': ['28.96', '3.58', '12.76', '10.93', '8.89', '2.26', '9.14', '9.18', '6.94', '0.63', '10.95', '7.47', '6.18', '8.03', '4.89', '8.49', '9.09', '0.4', '3.75', '9.2', '4.46', '2.71', '3.44', '5.14', '5.49', '3.9', '5.35', '3.17', '5.09', '4.24', '5.04', '5.86', '3.68', '4.19', '5.73', '3.59', '4.51', '2.55', '4.02', '4.37', '6.31', '3.45', '2.81', '2.85', '3.49', '0.01', '3.35', '2.04', '3.07', '3.87', '3.0', '4.82', '3.64', '2.15', '3.69', '2.65', '2.56', '3.11', '3.14', '1.94', '1.95', '2.47', '2.28', '3.42', '3.63', '2.36', '1.71', '1.85', '2.79', '1.24', '6.12', '1.53', '3.47', '2.24', '5.01', '2.01', '1.72', '2.07', '6.42', '3.86', '0.45', '3.48', '1.89', '5.75', '2.17', '1.37', '2.35', '1.18', '2.11', '1.88', '2.83', '2.99', '2.89', '3.27', '2.22', '2.14', '1.45', '1.75', '1.04', '1.77', '3.02', '2.75', '2.16', '1.9', '2.59', '2.2', '4.3', '0.93', '2.53', '2.52', '1.79', '1.3', '2.6', '1.58', '1.2', '1.56', '1.34', '1.26', '0.83', '6.21', '2.8', '1.59', '1.73', '4.33', '1.83', '0.0', '2.18', '1.98', '1.47', '0.67', '1.55', '1.91', '0.69', '0.6', '1.93', '1.64', '0.55', '2.19', '1.11', '2.29', '2.5', '0.96', '1.21', '1.12', '0.77', '1.69', '1.08', '0.79', '2.37', '2.46', '0.26', '0.75', '1.25', '2.43', '0.98', '0.74', '2.23', '0.61', '2.45', '1.41', '1.8', '3.28', '1.16', '1.99', '1.38', '1.36', '1.17', '1.19', '0.99', '1.68', '2.0', '1.33', '1.57', '1.48', '2.1', '1.27', '1.97', '0.91', '1.39', '1.96', '0.24', '1.51', '0.14', '1.29', '2.39', '1.03', '0.5', '0.58', '1.31', '2.02', '1.32', '1.01', '2.27', '2.3', '1.82', '2.78', '0.44', '0.48', '0.27', '0.21', '2.48', '0.51', '1.52', '0.04', '0.28', '1.35', '0.87', '2.13', '1.13', '1.76', '0.76', '2.12', '0.66', '1.6', '1.44', '1.43', '1.7', '0.47', '1.87', '0.86', '0.73', '1.28', '0.81', '1.09', '0.68', '1.22', '1.4', '1.02', '1.49', '1.14', '0.49', '0.9', '0.38', '1.42', '0.95', '1.62', '0.71', '1.05', '0.92', '0.33', '0.3', '1.67', '1.0', '0.89', '0.1', '0.72', '0.59', '0.56', '0.16', '0.97', '0.62', 'unknown', '0.85', '0.94', '0.88', '0.84', '1.06', '0.2', '1.15', '0.8', '1.1', '0.7', '1.92', '0.32', '0.15', '0.53', '0.09', '1.46', '0.29', '0.22', '1.23', '0.07', '0.17', '0.54', '0.36', '0.31', '1.84', '0.52', '0.11', '0.64', '0.12', '2.05', '1.63', '0.82', '0.08', '0.57', '1.65', '0.19', '0.02', '0.43', '0.25', '1.5', '0.18', '0.39', '0.13', '1.07', '0.46', '0.41', '0.06', '0.03', '0.37', '0.05', '0.23', '0.65', '0.42', '0.34', '0.35', '0.78']\n",
      "Уникальные значения в столбце 'jp_sales': ['3.77', '6.81', '3.79', '3.28', '10.22', '4.22', '6.5', '2.93', '4.7', '0.28', '1.93', '4.13', '7.2', '3.6', '0.24', '2.53', '0.98', '0.41', '3.54', '4.16', '6.04', '4.18', '3.84', '0.06', '0.47', '5.38', '5.32', '5.65', '1.87', '0.13', '3.12', '0.36', '0.11', '4.35', '0.65', '0.07', '0.08', '0.49', '0.3', '2.66', '2.69', '0.48', '0.38', '5.33', '1.91', '3.96', '3.1', '1.1', '1.2', '0.14', '2.54', '2.14', '0.81', '2.12', '0.44', '3.15', '1.25', '0.04', '0.0', '2.47', '2.23', '1.69', '0.01', '3.0', '0.02', '4.39', '1.98', '0.1', '3.81', '0.05', '2.49', '1.58', '3.14', '2.73', '0.66', '0.22', '3.63', '1.45', '1.31', '2.43', '0.7', '0.35', '1.4', '0.6', '2.26', '1.42', '1.28', '1.39', '0.87', '0.17', '0.94', '0.19', '0.21', '1.6', '0.16', '1.03', '0.25', '2.06', '1.49', '1.29', '0.09', '2.87', '0.03', '0.78', '0.83', '2.33', '2.02', '1.36', '1.81', '1.97', '0.91', '0.99', '0.95', '2.0', '1.01', '2.78', '2.11', '1.09', '0.2', '1.9', '1.27', '3.61', '1.57', '2.2', '1.7', '1.08', '0.15', '1.11', '0.29', '1.54', '0.12', '0.89', '4.87', '1.52', '1.32', '1.15', '4.1', '1.46', '0.46', '1.05', '1.61', '0.26', '1.38', '0.62', '0.73', '0.57', '0.31', '0.58', '1.76', '2.1', '0.9', '0.51', '0.64', '2.46', '0.23', '0.37', '0.92', '1.07', '2.62', '1.12', '0.54', '0.27', '0.59', '3.67', '0.55', '1.75', '3.44', '0.33', '2.55', '2.32', '2.79', '0.74', '3.18', '0.82', '0.77', '0.4', '2.35', '3.19', '0.8', '0.76', '3.03', '0.88', 'unknown', '0.45', '1.16', '0.34', '1.19', '1.13', '2.13', '1.96', '0.71', '1.04', '2.68', '0.68', '2.65', '0.96', '2.41', '0.52', '0.18', '1.34', '1.48', '2.34', '1.06', '1.21', '2.29', '1.63', '2.05', '2.17', '1.56', '1.35', '1.33', '0.63', '0.79', '0.75', '0.53', '1.53', '1.3', '0.39', '0.69', '0.42', '0.93', '0.56', '0.84', '0.72', '0.32', '1.71', '1.65', '0.61', '1.51', '1.5', '1.44', '1.24', '1.18', '1.37', '1.0', '1.26', '0.85', '0.43', '0.67', '1.14', '0.86', '1.17', '0.5', '1.02', '0.97']\n",
      "Уникальные значения в столбце 'user_score': ['8', nan, '8.3', '8.5', '6.6', '8.4', '8.6', '7.7', '6.3', '7.4', '8.2', '9', '7.9', '8.1', '8.7', '7.1', '3.4', '5.3', '4.8', '3.2', '8.9', '6.4', '7.8', '7.5', '2.6', '7.2', '9.2', '7', '7.3', '4.3', '7.6', '5.7', '5', '9.1', '6.5', 'tbd', '8.8', '6.9', '9.4', '6.8', '6.1', '6.7', '5.4', '4', '4.9', '4.5', '9.3', '6.2', '4.2', '6', '3.7', '4.1', '5.8', '5.6', '5.5', '4.4', '4.6', '5.9', '3.9', '3.1', '2.9', '5.2', '3.3', '4.7', '5.1', '3.5', '2.5', '1.9', '3', '2.7', '2.2', '2', '9.5', '2.1', '3.6', '2.8', '1.8', '3.8', '0', '1.6', '9.6', '2.4', '1.7', '1.1', '0.3', '1.5', '0.7', '1.2', '2.3', '0.5', '1.3', '0.2', '0.6', '1.4', '0.9', '1', '9.7']\n",
      "Уникальные значения в столбце 'critic_score': [76.0, nan, 82.0, 80.0, 89.0, 58.0, 87.0, 91.0, 61.0, 97.0, 95.0, 77.0, 88.0, 83.0, 94.0, 93.0, 85.0, 86.0, 98.0, 96.0, 90.0, 84.0, 73.0, 74.0, 78.0, 92.0, 71.0, 72.0, 68.0, 62.0, 49.0, 67.0, 81.0, 66.0, 56.0, 79.0, 70.0, 59.0, 64.0, 75.0, 60.0, 63.0, 69.0, 50.0, 25.0, 42.0, 44.0, 55.0, 48.0, 57.0, 29.0, 47.0, 65.0, 54.0, 20.0, 53.0, 37.0, 38.0, 33.0, 52.0, 30.0, 32.0, 43.0, 45.0, 51.0, 40.0, 46.0, 39.0, 34.0, 35.0, 41.0, 36.0, 28.0, 31.0, 27.0, 26.0, 19.0, 23.0, 24.0, 21.0, 17.0, 22.0, 13.0]\n"
     ]
    }
   ],
   "source": [
    "for column in df[['eu_sales','jp_sales', 'user_score','critic_score']]:\n",
    "    unique_values = list(df[column].unique())\n",
    "    print(f\"Уникальные значения в столбце '{column}': {unique_values}\")\n",
    "    #Выводим уникальные значения в интересующих нас столбцах для оценки содержимого. Видим строковый тип данных"
   ]
  },
  {
   "cell_type": "markdown",
   "id": "4cce2adc",
   "metadata": {},
   "source": [
    "<div class=\"alert\" style=\"background-color:#ead7f7;color:#8737bf\">\n",
    "    <font size=\"3\"><b>На основе выгруженных данных по уникальным значениям в столбцах следует отметить наличие дубликатов в  столбце genre ввиду наличия данных в верхнем регистре. Замечаем также ошибочный тип данных в eu_sales и jp_sales, user_score - строковый вместо необходимого числового.</b></font></div>"
   ]
  },
  {
   "cell_type": "code",
   "execution_count": 45,
   "id": "a6502be2-6584-4063-824a-3a07f2f21664",
   "metadata": {},
   "outputs": [],
   "source": [
    "#Ввиду наличия пропусков или строковых данных в столбцах типы данных не соответствуют предполагаемым.\n",
    "for column in ['eu_sales', 'jp_sales', 'user_score']:\n",
    "    df[column] = pd.to_numeric(df[column],errors = 'coerce')\n",
    "#С помощью цикла перебираем список из столбцов, требующих перевода типа данных во float"
   ]
  },
  {
   "cell_type": "code",
   "execution_count": 50,
   "id": "e70f9b89",
   "metadata": {},
   "outputs": [
    {
     "name": "stdout",
     "output_type": "stream",
     "text": [
      "[2006.0, 1985.0, 2008.0, 2009.0, 1996.0, 1989.0, 1984.0, 2005.0, 1999.0, 2007.0, 2010.0, 2013.0, 2004.0, 1990.0, 1988.0, 2002.0, 2001.0, 2011.0, 1998.0, 2015.0, 2012.0, 2014.0, 1992.0, 1997.0, 1993.0, 1994.0, 1982.0, 2016.0, 2003.0, 1986.0, 2000.0, nan, 1995.0, 1991.0, 1981.0, 1987.0, 1980.0, 1983.0]\n"
     ]
    }
   ],
   "source": [
    "unique_value = df['year_of_release'].unique() \n",
    "print(list(unique_value))\n",
    "#Проверяем значения столбца год релиза фильма.\n",
    "#Видим что среди значений отсутствует 0, значит можем использовать 0 в качестве заглушки"
   ]
  },
  {
   "cell_type": "code",
   "execution_count": 52,
   "id": "36ec18c7-6777-4b2d-af0b-d4e5388ef855",
   "metadata": {},
   "outputs": [],
   "source": [
    "df['year_of_release'] = df['year_of_release'].fillna(0).astype('int') \n",
    "#Переводим год в целочисленный тип, предварительно заполнив пропущенные значения на 0\n",
    "df[['genre','platform','rating','year_of_release']] = df[['genre','platform','rating','year_of_release']].astype('category') \n",
    "#Переводим столбцы в категоральный тип\n"
   ]
  },
  {
   "cell_type": "code",
   "execution_count": 58,
   "id": "23c5325a-12f8-4441-ac17-5cf65e1c8c02",
   "metadata": {},
   "outputs": [
    {
     "data": {
      "text/plain": [
       "name                 object\n",
       "platform           category\n",
       "year_of_release    category\n",
       "genre              category\n",
       "na_sales            float64\n",
       "eu_sales            float64\n",
       "jp_sales            float64\n",
       "other_sales         float64\n",
       "critic_score        float64\n",
       "user_score          float64\n",
       "rating             category\n",
       "dtype: object"
      ]
     },
     "execution_count": 58,
     "metadata": {},
     "output_type": "execute_result"
    }
   ],
   "source": [
    "df.dtypes #Проверяем, что тип успешно изменен"
   ]
  },
  {
   "cell_type": "markdown",
   "id": "248b2f20",
   "metadata": {},
   "source": [
    "В данном разделе была произведена выгрузка первых строк датафрейма, также мы вывели уникальные значения столбцов, чтобы убедиться в корректности представленных данных и правильности типов данных. Далее мы преобразовали данные к требуемому типу данных для удоства работы с ними."
   ]
  },
  {
   "cell_type": "markdown",
   "id": "8e13e476-b5ef-49c3-a2a8-72893ede4d82",
   "metadata": {},
   "source": [
    "### 2.3. Наличие пропусков в данных"
   ]
  },
  {
   "cell_type": "code",
   "execution_count": 65,
   "id": "c966f9f1-8516-4d43-ad28-86530bb7a83c",
   "metadata": {
    "scrolled": true
   },
   "outputs": [
    {
     "data": {
      "text/plain": [
       "name                  2\n",
       "platform              0\n",
       "year_of_release       0\n",
       "genre                 2\n",
       "na_sales              0\n",
       "eu_sales              6\n",
       "jp_sales              4\n",
       "other_sales           0\n",
       "critic_score       8714\n",
       "user_score         9268\n",
       "rating             6871\n",
       "dtype: int64"
      ]
     },
     "execution_count": 65,
     "metadata": {},
     "output_type": "execute_result"
    }
   ],
   "source": [
    "df.isna().sum() #Количество пропусков в каждом столбце.\n"
   ]
  },
  {
   "cell_type": "code",
   "execution_count": 66,
   "id": "0d1d2895-d406-4c83-8756-e06b3666e2c5",
   "metadata": {},
   "outputs": [
    {
     "data": {
      "text/plain": [
       "name               0.000118\n",
       "platform           0.000000\n",
       "year_of_release    0.000000\n",
       "genre              0.000118\n",
       "na_sales           0.000000\n",
       "eu_sales           0.000354\n",
       "jp_sales           0.000236\n",
       "other_sales        0.000000\n",
       "critic_score       0.513918\n",
       "user_score         0.546591\n",
       "rating             0.405225\n",
       "dtype: float64"
      ]
     },
     "execution_count": 66,
     "metadata": {},
     "output_type": "execute_result"
    }
   ],
   "source": [
    "df.isna().mean() #Доля пропусков в каждом столбце. "
   ]
  },
  {
   "cell_type": "markdown",
   "id": "f60a46d1-23fd-4014-81e1-0df48642d33d",
   "metadata": {},
   "source": [
    "Единичные пропуски отмечены в столбцах name, genre. Количество до 6 шт, что фактически является не значимым для исследования. Можно удалить строки без названия фильмов, так как они неинформативны\\\n",
    "Единичные пропуски отмечены в столбцах eu_sales, jp_sales. Следует заполнить их средним значением с учетом года и платформы \\\n",
    "Большое количество пропусков (более 50%) отмечено в столбцах critic_Score и user_score, предполагаем, что фильм не был оценен ни пользователями, ни критиками, заполним индикатором -1, предварительно убедившись в отсутствии значения в столбце\\\n",
    "Столбец rating также содержит большое количество пропусков - 40%, данным фильмам не присвоили возрастную категорию. пропущенные заполним индикатором \"Без рейтинга\", предварительно убедившись в отсутствии данного значения в датасете\\\n",
    "Столбец year_of_release полностью заполнен значениями (пропусков нет) в предыдущем шаге, если год не был указан, мы присвоили ячейке значение 0. "
   ]
  },
  {
   "cell_type": "code",
   "execution_count": 74,
   "id": "baaa5582-885b-4ee4-b50f-77e7ff7f1e40",
   "metadata": {},
   "outputs": [
    {
     "name": "stdout",
     "output_type": "stream",
     "text": [
      "['E', nan, 'M', 'T', 'E10+', 'K-A', 'AO', 'EC', 'RP']\n"
     ]
    }
   ],
   "source": [
    "unique_value = df['rating'].unique()\n",
    "print(list(unique_value))\n",
    "#Проверяем значения столбца 'rating'.\n",
    "#Видим что среди значений отсутствует no-rating, значит можем использовать его в качестве заглушки"
   ]
  },
  {
   "cell_type": "code",
   "execution_count": 75,
   "id": "16965693",
   "metadata": {},
   "outputs": [],
   "source": [
    "df['rating'] = df['rating'].astype('str').fillna('no-rating').astype('category') \n",
    "#Заполняем пропущенные значения на значение с отсутствием рейтинга"
   ]
  },
  {
   "cell_type": "code",
   "execution_count": 76,
   "id": "d876300c-b25f-4177-a85d-c0dcd62c9a85",
   "metadata": {},
   "outputs": [],
   "source": [
    "df = df.dropna(subset=['name','genre'], how='all') #Удаляем строки с пропусками"
   ]
  },
  {
   "cell_type": "code",
   "execution_count": 82,
   "id": "9f9e9790-3b05-4034-81af-c73044b9b990",
   "metadata": {},
   "outputs": [
    {
     "name": "stdout",
     "output_type": "stream",
     "text": [
      "[76.0, nan, 13.0, 17.0, 19.0, 20.0, 21.0, 22.0, 23.0, 24.0, 25.0, 26.0, 27.0, 28.0, 29.0, 30.0, 31.0, 32.0, 33.0, 34.0, 35.0, 36.0, 37.0, 38.0, 39.0, 40.0, 41.0, 42.0, 43.0, 44.0, 45.0, 46.0, 47.0, 48.0, 49.0, 50.0, 51.0, 52.0, 53.0, 54.0, 55.0, 56.0, 57.0, 58.0, 59.0, 60.0, 61.0, 62.0, 63.0, 64.0, 65.0, 66.0, 67.0, 68.0, 69.0, 70.0, 71.0, 72.0, 73.0, 74.0, 75.0, 77.0, 78.0, 79.0, 80.0, 81.0, 82.0, 83.0, 84.0, 85.0, 86.0, 87.0, 88.0, 89.0, 90.0, 91.0, 92.0, 93.0, 94.0, 95.0, 96.0, 97.0, 98.0]\n"
     ]
    }
   ],
   "source": [
    "unique_value = sorted(df['critic_score'].unique())\n",
    "print(list(unique_value))\n",
    "#Проверяем значения столбца critic_score.\n",
    "#Видим что среди значений отсутствует -1, значит можем использовать -1 в качестве заглушки"
   ]
  },
  {
   "cell_type": "code",
   "execution_count": 83,
   "id": "91ed04b7-1a44-4477-bde5-54b19fde3d83",
   "metadata": {},
   "outputs": [
    {
     "name": "stdout",
     "output_type": "stream",
     "text": [
      "[8.0, nan, 0.0, 0.2, 0.3, 0.5, 0.6, 0.7, 0.9, 1.0, 1.1, 1.2, 1.3, 1.4, 1.5, 1.6, 1.7, 1.8, 1.9, 2.0, 2.1, 2.2, 2.3, 2.4, 2.5, 2.6, 2.7, 2.8, 2.9, 3.0, 3.1, 3.2, 3.3, 3.4, 3.5, 3.6, 3.7, 3.8, 3.9, 4.0, 4.1, 4.2, 4.3, 4.4, 4.5, 4.6, 4.7, 4.8, 4.9, 5.0, 5.1, 5.2, 5.3, 5.4, 5.5, 5.6, 5.7, 5.8, 5.9, 6.0, 6.1, 6.2, 6.3, 6.4, 6.5, 6.6, 6.7, 6.8, 6.9, 7.0, 7.1, 7.2, 7.3, 7.4, 7.5, 7.6, 7.7, 7.8, 7.9, 8.1, 8.2, 8.3, 8.4, 8.5, 8.6, 8.7, 8.8, 8.9, 9.0, 9.1, 9.2, 9.3, 9.4, 9.5, 9.6, 9.7]\n"
     ]
    }
   ],
   "source": [
    "unique_value = sorted(df['user_score'].unique())\n",
    "print(list(unique_value))\n",
    "#Проверяем значения столбца user_score.\n",
    "#Видим что среди значений отсутствует -1, значит можем использовать -1 в качестве заглушки"
   ]
  },
  {
   "cell_type": "code",
   "execution_count": 84,
   "id": "33c788c8-9065-45c9-8bd6-ca977987aba5",
   "metadata": {},
   "outputs": [],
   "source": [
    "df['user_score'] = df['user_score'].fillna(-1) #Заполняем пропущенные значечнием -1"
   ]
  },
  {
   "cell_type": "code",
   "execution_count": 85,
   "id": "1ab92dc4-d167-466e-a474-457fdd5fe9ab",
   "metadata": {},
   "outputs": [],
   "source": [
    "df['critic_score'] = df['critic_score'].fillna(-1) #Заполняем пропущенные значечнием -1"
   ]
  },
  {
   "cell_type": "code",
   "execution_count": 86,
   "id": "dadb79c2-2f00-41ef-b1e1-18dba3a4fa05",
   "metadata": {},
   "outputs": [
    {
     "name": "stdout",
     "output_type": "stream",
     "text": [
      "[-1.0, 13.0, 17.0, 19.0, 20.0, 21.0, 22.0, 23.0, 24.0, 25.0, 26.0, 27.0, 28.0, 29.0, 30.0, 31.0, 32.0, 33.0, 34.0, 35.0, 36.0, 37.0, 38.0, 39.0, 40.0, 41.0, 42.0, 43.0, 44.0, 45.0, 46.0, 47.0, 48.0, 49.0, 50.0, 51.0, 52.0, 53.0, 54.0, 55.0, 56.0, 57.0, 58.0, 59.0, 60.0, 61.0, 62.0, 63.0, 64.0, 65.0, 66.0, 67.0, 68.0, 69.0, 70.0, 71.0, 72.0, 73.0, 74.0, 75.0, 76.0, 77.0, 78.0, 79.0, 80.0, 81.0, 82.0, 83.0, 84.0, 85.0, 86.0, 87.0, 88.0, 89.0, 90.0, 91.0, 92.0, 93.0, 94.0, 95.0, 96.0, 97.0, 98.0]\n",
      "[-1.0, 0.0, 0.2, 0.3, 0.5, 0.6, 0.7, 0.9, 1.0, 1.1, 1.2, 1.3, 1.4, 1.5, 1.6, 1.7, 1.8, 1.9, 2.0, 2.1, 2.2, 2.3, 2.4, 2.5, 2.6, 2.7, 2.8, 2.9, 3.0, 3.1, 3.2, 3.3, 3.4, 3.5, 3.6, 3.7, 3.8, 3.9, 4.0, 4.1, 4.2, 4.3, 4.4, 4.5, 4.6, 4.7, 4.8, 4.9, 5.0, 5.1, 5.2, 5.3, 5.4, 5.5, 5.6, 5.7, 5.8, 5.9, 6.0, 6.1, 6.2, 6.3, 6.4, 6.5, 6.6, 6.7, 6.8, 6.9, 7.0, 7.1, 7.2, 7.3, 7.4, 7.5, 7.6, 7.7, 7.8, 7.9, 8.0, 8.1, 8.2, 8.3, 8.4, 8.5, 8.6, 8.7, 8.8, 8.9, 9.0, 9.1, 9.2, 9.3, 9.4, 9.5, 9.6, 9.7]\n"
     ]
    }
   ],
   "source": [
    "unique_value = sorted(df['critic_score'].unique())\n",
    "print(list(unique_value)) #Проверяем как заполнилось\n",
    "unique_value = sorted(df['user_score'].unique())\n",
    "print(list(unique_value))"
   ]
  },
  {
   "cell_type": "code",
   "execution_count": 87,
   "id": "cef52ce3-b668-4d46-9883-587520854f8b",
   "metadata": {},
   "outputs": [],
   "source": [
    "df['year_group']=pd.cut(df['year_of_release'],bins=[0,1900,1980,1990,2000,2010,2016],labels=[\"Нет данных\",\"Вне диапазона\",\"80e\",\"90e\",\"00e\",\"10e\"]) #Создадим столбец с категоризацией года выпуска фильма для удобства работы и фильтрации"
   ]
  },
  {
   "cell_type": "code",
   "execution_count": 88,
   "id": "b58e4ea3-fad9-4286-9c11-a8b0571b0455",
   "metadata": {},
   "outputs": [
    {
     "name": "stdout",
     "output_type": "stream",
     "text": [
      "<class 'pandas.core.frame.DataFrame'>\n",
      "Int64Index: 16954 entries, 0 to 16955\n",
      "Data columns (total 12 columns):\n",
      " #   Column           Non-Null Count  Dtype   \n",
      "---  ------           --------------  -----   \n",
      " 0   name             16954 non-null  object  \n",
      " 1   platform         16954 non-null  category\n",
      " 2   year_of_release  16954 non-null  category\n",
      " 3   genre            16954 non-null  category\n",
      " 4   na_sales         16954 non-null  float64 \n",
      " 5   eu_sales         16948 non-null  float64 \n",
      " 6   jp_sales         16950 non-null  float64 \n",
      " 7   other_sales      16954 non-null  float64 \n",
      " 8   critic_score     16954 non-null  float64 \n",
      " 9   user_score       16954 non-null  float64 \n",
      " 10  rating           16954 non-null  category\n",
      " 11  year_group       16679 non-null  category\n",
      "dtypes: category(5), float64(6), object(1)\n",
      "memory usage: 1.1+ MB\n"
     ]
    }
   ],
   "source": [
    "df.info()"
   ]
  },
  {
   "cell_type": "code",
   "execution_count": 92,
   "id": "f63eb56a-129e-4d71-887a-9c7a39ba22ae",
   "metadata": {},
   "outputs": [],
   "source": [
    "def mean_group_sales(row): #Создадим функцию для заполнения пропущенных ячеек eu,jp продаж средним значением в зависимости от названия платформы и группы года выхода игры\n",
    "    if pd.isna(row['eu_sales']) or pd.isna(row['jp_sales']):#Если ячейка eu/jp_sales пуста\n",
    "        group = df[(df['platform'] == row['platform']) & (df['year_group'] == row['year_group'])]#создаем дс, куда  сохраним соответствие плаформы и группы года релиза\n",
    "        eu_sales = group['eu_sales'].mean() if pd.isna(row['eu_sales']) else row['eu_sales'] #сохраняем средние значения \n",
    "        jp_sales = group['jp_sales'].mean() if pd.isna(row['jp_sales']) else row['jp_sales']\n",
    "        return pd.Series([eu_sales, jp_sales]) #заполняем серию средними значениями\n",
    "    else:\n",
    "        return pd.Series([row['eu_sales'], row['jp_sales']]) #или оставляем как есть\n",
    "df[['eu_sales', 'jp_sales']] = df.apply(mean_group_sales, axis=1)#применяем функцию к строкам дф"
   ]
  },
  {
   "cell_type": "code",
   "execution_count": 93,
   "id": "24cb859c-3d40-43b3-b502-3a9cf58ab90f",
   "metadata": {},
   "outputs": [],
   "source": [
    "df['year_group'] = df['year_group'].astype('str').fillna('no_data').astype('category')"
   ]
  },
  {
   "cell_type": "code",
   "execution_count": 94,
   "id": "83158ea5-81e0-4de2-9787-f6b3ba24eee8",
   "metadata": {
    "scrolled": true
   },
   "outputs": [
    {
     "data": {
      "text/plain": [
       "name               0\n",
       "platform           0\n",
       "year_of_release    0\n",
       "genre              0\n",
       "na_sales           0\n",
       "eu_sales           0\n",
       "jp_sales           0\n",
       "other_sales        0\n",
       "critic_score       0\n",
       "user_score         0\n",
       "rating             0\n",
       "year_group         0\n",
       "dtype: int64"
      ]
     },
     "execution_count": 94,
     "metadata": {},
     "output_type": "execute_result"
    }
   ],
   "source": [
    "df.isna().sum() #Пустые ячейки отсутствуют"
   ]
  },
  {
   "cell_type": "markdown",
   "id": "addd1d36-3913-42eb-97b5-01d1f6672a29",
   "metadata": {},
   "source": [
    "В данном разделе проверили наличие пропусков в столбцах. Заполнили их фиксированными значениями где это возможно, или рассчитали среднее значение по категориям для заполнения пропусков, а также создали доп столбец с категориями временных групп по году выхода фильма."
   ]
  },
  {
   "cell_type": "markdown",
   "id": "ec53a249-8197-4427-a1d1-9a71717d78fe",
   "metadata": {},
   "source": [
    "### 2.4. Явные и неявные дубликаты в данных"
   ]
  },
  {
   "cell_type": "code",
   "execution_count": 100,
   "id": "359ed617",
   "metadata": {
    "scrolled": true
   },
   "outputs": [
    {
     "data": {
      "text/plain": [
       "name                 object\n",
       "platform           category\n",
       "year_of_release    category\n",
       "genre              category\n",
       "na_sales            float64\n",
       "eu_sales            float64\n",
       "jp_sales            float64\n",
       "other_sales         float64\n",
       "critic_score        float64\n",
       "user_score          float64\n",
       "rating             category\n",
       "year_group         category\n",
       "dtype: object"
      ]
     },
     "execution_count": 100,
     "metadata": {},
     "output_type": "execute_result"
    }
   ],
   "source": [
    "df.dtypes #Выведем типы данных. Нам необходимо исследовать категориальные данные"
   ]
  },
  {
   "cell_type": "code",
   "execution_count": 101,
   "id": "ab63275c",
   "metadata": {
    "scrolled": true
   },
   "outputs": [
    {
     "name": "stdout",
     "output_type": "stream",
     "text": [
      "['Wii', 'NES', 'GB', 'DS', 'X360', 'PS3', 'PS2', 'SNES', 'GBA', 'PS4', '3DS', 'N64', 'PS', 'XB', 'PC', '2600', 'PSP', 'XOne', 'WiiU', 'GC', 'GEN', 'DC', 'PSV', 'SAT', 'SCD', 'WS', 'NG', 'TG16', '3DO', 'GG', 'PCFX']\n"
     ]
    }
   ],
   "source": [
    "unique_values = list(df['platform'].unique())\n",
    "print(unique_values)"
   ]
  },
  {
   "cell_type": "code",
   "execution_count": 102,
   "id": "923144dc",
   "metadata": {},
   "outputs": [
    {
     "name": "stdout",
     "output_type": "stream",
     "text": [
      "[2006, 1985, 2008, 2009, 1996, 1989, 1984, 2005, 1999, 2007, 2010, 2013, 2004, 1990, 1988, 2002, 2001, 2011, 1998, 2015, 2012, 2014, 1992, 1997, 1993, 1994, 1982, 2016, 2003, 1986, 2000, 0, 1995, 1991, 1981, 1987, 1980, 1983]\n"
     ]
    }
   ],
   "source": [
    "unique_values = list(df['year_of_release'].unique())\n",
    "print(unique_values)"
   ]
  },
  {
   "cell_type": "code",
   "execution_count": 103,
   "id": "fbfe8ad0",
   "metadata": {},
   "outputs": [
    {
     "name": "stdout",
     "output_type": "stream",
     "text": [
      "['Sports', 'Platform', 'Racing', 'Role-Playing', 'Puzzle', 'Misc', 'Shooter', 'Simulation', 'Action', 'Fighting', 'Adventure', 'Strategy', 'MISC', 'ROLE-PLAYING', 'RACING', 'ACTION', 'SHOOTER', 'FIGHTING', 'SPORTS', 'PLATFORM', 'ADVENTURE', 'SIMULATION', 'PUZZLE', 'STRATEGY']\n"
     ]
    }
   ],
   "source": [
    "unique_values = list(df['genre'].unique())\n",
    "print(unique_values)"
   ]
  },
  {
   "cell_type": "code",
   "execution_count": 104,
   "id": "0559c9d0",
   "metadata": {},
   "outputs": [
    {
     "name": "stdout",
     "output_type": "stream",
     "text": [
      "['E', 'nan', 'M', 'T', 'E10+', 'K-A', 'AO', 'EC', 'RP']\n"
     ]
    }
   ],
   "source": [
    "unique_values = list(df['rating'].unique())\n",
    "print(unique_values)"
   ]
  },
  {
   "cell_type": "markdown",
   "id": "76662b20-5bcf-4459-ac5f-534f416fb605",
   "metadata": {},
   "source": [
    "В результате рассмотрения значений представленного датасета мы выявили неявные дубликаты в столбце жанр, связанные с разностью регистра, например sports и SPORTS. \n",
    "Исправим это, приведем значения в нижний регистр. А также отмечено значение рейтинга, которое было переименовано (не используется), исправим на актуальное."
   ]
  },
  {
   "cell_type": "code",
   "execution_count": 106,
   "id": "ed6191ca-9495-4232-8031-55cb59de9c6b",
   "metadata": {},
   "outputs": [],
   "source": [
    "df['genre'] = df['genre'].str.lower().astype('category') #Переведем все значения столбца жанр в нижний регистр для исключения дубликатов"
   ]
  },
  {
   "cell_type": "code",
   "execution_count": 107,
   "id": "a9f27e95-a7c0-4203-86bb-8c9b651792d1",
   "metadata": {
    "scrolled": true
   },
   "outputs": [
    {
     "data": {
      "text/plain": [
       "['sports',\n",
       " 'platform',\n",
       " 'racing',\n",
       " 'role-playing',\n",
       " 'puzzle',\n",
       " 'misc',\n",
       " 'shooter',\n",
       " 'simulation',\n",
       " 'action',\n",
       " 'fighting',\n",
       " 'adventure',\n",
       " 'strategy']"
      ]
     },
     "execution_count": 107,
     "metadata": {},
     "output_type": "execute_result"
    }
   ],
   "source": [
    "list(df['genre'].unique()) #Проверяем, что остались уникальные наименования жанров"
   ]
  },
  {
   "cell_type": "code",
   "execution_count": 112,
   "id": "0bfda0a3-c933-4d15-843c-9c34c808de1e",
   "metadata": {},
   "outputs": [
    {
     "data": {
      "text/plain": [
       "['E', 'nan', 'M', 'T', 'E10+', 'K-A', 'AO', 'EC', 'RP']"
      ]
     },
     "execution_count": 112,
     "metadata": {},
     "output_type": "execute_result"
    }
   ],
   "source": [
    "list(df['rating'].unique()) #Выводим уникальные значения столбца рейтинг. Видим элемент, который был переименован. Ранее- \"К-А\", а сейчас именуется \"Е10+\"."
   ]
  },
  {
   "cell_type": "code",
   "execution_count": 113,
   "id": "3ca39220-b080-43c5-babd-2dfe9106c2af",
   "metadata": {},
   "outputs": [],
   "source": [
    "df['rating'] = df['rating'].str.replace('K-A', 'E10+').astype('category') #Меняем значение на актуальное"
   ]
  },
  {
   "cell_type": "code",
   "execution_count": 114,
   "id": "4c080867-21e8-4e8a-be10-8a343c90777c",
   "metadata": {},
   "outputs": [
    {
     "data": {
      "text/plain": [
       "['E', 'nan', 'M', 'T', 'E10+', 'AO', 'EC', 'RP']"
      ]
     },
     "execution_count": 114,
     "metadata": {},
     "output_type": "execute_result"
    }
   ],
   "source": [
    "list(df['rating'].unique()) #Проверяем уникальные значения столбца рейтинг"
   ]
  },
  {
   "cell_type": "code",
   "execution_count": 115,
   "id": "ab585c34-0e8c-4727-ba54-ecd4b7d9607b",
   "metadata": {},
   "outputs": [
    {
     "data": {
      "text/plain": [
       "241"
      ]
     },
     "execution_count": 115,
     "metadata": {},
     "output_type": "execute_result"
    }
   ],
   "source": [
    "df.duplicated().sum() # выводим количество явных дубликатов"
   ]
  },
  {
   "cell_type": "code",
   "execution_count": 116,
   "id": "7d00d4dc-b121-498c-af2a-e98b860942cf",
   "metadata": {},
   "outputs": [],
   "source": [
    "#Удаляем явные дубликаты во всем дф\n",
    "#т.к один фильм может быть размещен на разных платформах и иметь отличные показатели продаж\n",
    "df_cleaned=df.drop_duplicates(subset=None, keep = 'first',inplace=False) "
   ]
  },
  {
   "cell_type": "code",
   "execution_count": 120,
   "id": "4b91af05-f3f2-4e27-97e3-0935ce9c6dba",
   "metadata": {},
   "outputs": [
    {
     "data": {
      "text/html": [
       "<div>\n",
       "<style scoped>\n",
       "    .dataframe tbody tr th:only-of-type {\n",
       "        vertical-align: middle;\n",
       "    }\n",
       "\n",
       "    .dataframe tbody tr th {\n",
       "        vertical-align: top;\n",
       "    }\n",
       "\n",
       "    .dataframe thead th {\n",
       "        text-align: right;\n",
       "    }\n",
       "</style>\n",
       "<table border=\"1\" class=\"dataframe\">\n",
       "  <thead>\n",
       "    <tr style=\"text-align: right;\">\n",
       "      <th></th>\n",
       "      <th>name</th>\n",
       "      <th>platform</th>\n",
       "      <th>year_of_release</th>\n",
       "      <th>genre</th>\n",
       "      <th>na_sales</th>\n",
       "      <th>eu_sales</th>\n",
       "      <th>jp_sales</th>\n",
       "      <th>other_sales</th>\n",
       "      <th>critic_score</th>\n",
       "      <th>user_score</th>\n",
       "      <th>rating</th>\n",
       "      <th>year_group</th>\n",
       "    </tr>\n",
       "  </thead>\n",
       "  <tbody>\n",
       "    <tr>\n",
       "      <th>15191</th>\n",
       "      <td>Beyblade Burst</td>\n",
       "      <td>3DS</td>\n",
       "      <td>2016</td>\n",
       "      <td>role-playing</td>\n",
       "      <td>0.00</td>\n",
       "      <td>0.00</td>\n",
       "      <td>0.03</td>\n",
       "      <td>0.00</td>\n",
       "      <td>-1.0</td>\n",
       "      <td>-1.0</td>\n",
       "      <td>nan</td>\n",
       "      <td>10e</td>\n",
       "    </tr>\n",
       "    <tr>\n",
       "      <th>1086</th>\n",
       "      <td>Fire Emblem Fates</td>\n",
       "      <td>3DS</td>\n",
       "      <td>2015</td>\n",
       "      <td>role-playing</td>\n",
       "      <td>0.81</td>\n",
       "      <td>0.23</td>\n",
       "      <td>0.52</td>\n",
       "      <td>0.11</td>\n",
       "      <td>-1.0</td>\n",
       "      <td>-1.0</td>\n",
       "      <td>nan</td>\n",
       "      <td>10e</td>\n",
       "    </tr>\n",
       "    <tr>\n",
       "      <th>3394</th>\n",
       "      <td>Frozen: Olaf's Quest</td>\n",
       "      <td>3DS</td>\n",
       "      <td>2013</td>\n",
       "      <td>platform</td>\n",
       "      <td>0.27</td>\n",
       "      <td>0.27</td>\n",
       "      <td>0.00</td>\n",
       "      <td>0.05</td>\n",
       "      <td>-1.0</td>\n",
       "      <td>-1.0</td>\n",
       "      <td>nan</td>\n",
       "      <td>10e</td>\n",
       "    </tr>\n",
       "    <tr>\n",
       "      <th>3906</th>\n",
       "      <td>Frozen: Olaf's Quest</td>\n",
       "      <td>DS</td>\n",
       "      <td>2013</td>\n",
       "      <td>platform</td>\n",
       "      <td>0.21</td>\n",
       "      <td>0.26</td>\n",
       "      <td>0.00</td>\n",
       "      <td>0.04</td>\n",
       "      <td>-1.0</td>\n",
       "      <td>-1.0</td>\n",
       "      <td>nan</td>\n",
       "      <td>10e</td>\n",
       "    </tr>\n",
       "    <tr>\n",
       "      <th>13983</th>\n",
       "      <td>Haikyu!! Cross Team Match!</td>\n",
       "      <td>3DS</td>\n",
       "      <td>2016</td>\n",
       "      <td>adventure</td>\n",
       "      <td>0.00</td>\n",
       "      <td>0.00</td>\n",
       "      <td>0.04</td>\n",
       "      <td>0.00</td>\n",
       "      <td>-1.0</td>\n",
       "      <td>-1.0</td>\n",
       "      <td>nan</td>\n",
       "      <td>10e</td>\n",
       "    </tr>\n",
       "    <tr>\n",
       "      <th>2478</th>\n",
       "      <td>Tales of Xillia 2</td>\n",
       "      <td>PS3</td>\n",
       "      <td>2012</td>\n",
       "      <td>role-playing</td>\n",
       "      <td>0.20</td>\n",
       "      <td>0.12</td>\n",
       "      <td>0.45</td>\n",
       "      <td>0.07</td>\n",
       "      <td>71.0</td>\n",
       "      <td>7.9</td>\n",
       "      <td>T</td>\n",
       "      <td>10e</td>\n",
       "    </tr>\n",
       "    <tr>\n",
       "      <th>4782</th>\n",
       "      <td>'98 Koshien</td>\n",
       "      <td>PS</td>\n",
       "      <td>1998</td>\n",
       "      <td>sports</td>\n",
       "      <td>0.15</td>\n",
       "      <td>0.10</td>\n",
       "      <td>0.12</td>\n",
       "      <td>0.03</td>\n",
       "      <td>-1.0</td>\n",
       "      <td>-1.0</td>\n",
       "      <td>nan</td>\n",
       "      <td>90e</td>\n",
       "    </tr>\n",
       "    <tr>\n",
       "      <th>8460</th>\n",
       "      <td>.hack//G.U. Vol.1//Rebirth</td>\n",
       "      <td>PS2</td>\n",
       "      <td>2006</td>\n",
       "      <td>role-playing</td>\n",
       "      <td>0.00</td>\n",
       "      <td>0.00</td>\n",
       "      <td>0.17</td>\n",
       "      <td>0.00</td>\n",
       "      <td>-1.0</td>\n",
       "      <td>-1.0</td>\n",
       "      <td>nan</td>\n",
       "      <td>00e</td>\n",
       "    </tr>\n",
       "    <tr>\n",
       "      <th>7182</th>\n",
       "      <td>.hack//G.U. Vol.2//Reminisce</td>\n",
       "      <td>PS2</td>\n",
       "      <td>2006</td>\n",
       "      <td>role-playing</td>\n",
       "      <td>0.11</td>\n",
       "      <td>0.09</td>\n",
       "      <td>0.00</td>\n",
       "      <td>0.03</td>\n",
       "      <td>-1.0</td>\n",
       "      <td>-1.0</td>\n",
       "      <td>nan</td>\n",
       "      <td>00e</td>\n",
       "    </tr>\n",
       "    <tr>\n",
       "      <th>8719</th>\n",
       "      <td>.hack//G.U. Vol.2//Reminisce (jp sales)</td>\n",
       "      <td>PS2</td>\n",
       "      <td>2006</td>\n",
       "      <td>role-playing</td>\n",
       "      <td>0.00</td>\n",
       "      <td>0.00</td>\n",
       "      <td>0.16</td>\n",
       "      <td>0.00</td>\n",
       "      <td>-1.0</td>\n",
       "      <td>-1.0</td>\n",
       "      <td>nan</td>\n",
       "      <td>00e</td>\n",
       "    </tr>\n",
       "    <tr>\n",
       "      <th>8410</th>\n",
       "      <td>.hack//G.U. Vol.3//Redemption</td>\n",
       "      <td>PS2</td>\n",
       "      <td>2007</td>\n",
       "      <td>role-playing</td>\n",
       "      <td>0.00</td>\n",
       "      <td>0.00</td>\n",
       "      <td>0.17</td>\n",
       "      <td>0.00</td>\n",
       "      <td>-1.0</td>\n",
       "      <td>-1.0</td>\n",
       "      <td>nan</td>\n",
       "      <td>00e</td>\n",
       "    </tr>\n",
       "    <tr>\n",
       "      <th>1575</th>\n",
       "      <td>.hack//Infection Part 1</td>\n",
       "      <td>PS2</td>\n",
       "      <td>2002</td>\n",
       "      <td>role-playing</td>\n",
       "      <td>0.49</td>\n",
       "      <td>0.38</td>\n",
       "      <td>0.26</td>\n",
       "      <td>0.13</td>\n",
       "      <td>75.0</td>\n",
       "      <td>8.5</td>\n",
       "      <td>T</td>\n",
       "      <td>00e</td>\n",
       "    </tr>\n",
       "    <tr>\n",
       "      <th>9189</th>\n",
       "      <td>.hack//Link</td>\n",
       "      <td>PSP</td>\n",
       "      <td>2010</td>\n",
       "      <td>role-playing</td>\n",
       "      <td>0.00</td>\n",
       "      <td>0.00</td>\n",
       "      <td>0.14</td>\n",
       "      <td>0.00</td>\n",
       "      <td>-1.0</td>\n",
       "      <td>-1.0</td>\n",
       "      <td>nan</td>\n",
       "      <td>00e</td>\n",
       "    </tr>\n",
       "    <tr>\n",
       "      <th>3023</th>\n",
       "      <td>.hack//Mutation Part 2</td>\n",
       "      <td>PS2</td>\n",
       "      <td>2002</td>\n",
       "      <td>role-playing</td>\n",
       "      <td>0.23</td>\n",
       "      <td>0.18</td>\n",
       "      <td>0.20</td>\n",
       "      <td>0.06</td>\n",
       "      <td>76.0</td>\n",
       "      <td>8.9</td>\n",
       "      <td>T</td>\n",
       "      <td>00e</td>\n",
       "    </tr>\n",
       "    <tr>\n",
       "      <th>4313</th>\n",
       "      <td>.hack//Outbreak Part 3</td>\n",
       "      <td>PS2</td>\n",
       "      <td>2002</td>\n",
       "      <td>role-playing</td>\n",
       "      <td>0.14</td>\n",
       "      <td>0.11</td>\n",
       "      <td>0.17</td>\n",
       "      <td>0.04</td>\n",
       "      <td>70.0</td>\n",
       "      <td>8.7</td>\n",
       "      <td>T</td>\n",
       "      <td>00e</td>\n",
       "    </tr>\n",
       "    <tr>\n",
       "      <th>8098</th>\n",
       "      <td>.hack//Quarantine Part 4: The Final Chapter</td>\n",
       "      <td>PS2</td>\n",
       "      <td>2003</td>\n",
       "      <td>role-playing</td>\n",
       "      <td>0.09</td>\n",
       "      <td>0.07</td>\n",
       "      <td>0.00</td>\n",
       "      <td>0.02</td>\n",
       "      <td>-1.0</td>\n",
       "      <td>-1.0</td>\n",
       "      <td>nan</td>\n",
       "      <td>00e</td>\n",
       "    </tr>\n",
       "    <tr>\n",
       "      <th>14525</th>\n",
       "      <td>.hack: Sekai no Mukou ni + Versus</td>\n",
       "      <td>PS3</td>\n",
       "      <td>2012</td>\n",
       "      <td>action</td>\n",
       "      <td>0.00</td>\n",
       "      <td>0.00</td>\n",
       "      <td>0.03</td>\n",
       "      <td>0.00</td>\n",
       "      <td>-1.0</td>\n",
       "      <td>-1.0</td>\n",
       "      <td>nan</td>\n",
       "      <td>10e</td>\n",
       "    </tr>\n",
       "    <tr>\n",
       "      <th>3800</th>\n",
       "      <td>007 Racing</td>\n",
       "      <td>PS</td>\n",
       "      <td>2000</td>\n",
       "      <td>racing</td>\n",
       "      <td>0.30</td>\n",
       "      <td>0.20</td>\n",
       "      <td>0.00</td>\n",
       "      <td>0.03</td>\n",
       "      <td>51.0</td>\n",
       "      <td>4.6</td>\n",
       "      <td>T</td>\n",
       "      <td>90e</td>\n",
       "    </tr>\n",
       "    <tr>\n",
       "      <th>3153</th>\n",
       "      <td>007: Quantum of Solace</td>\n",
       "      <td>Wii</td>\n",
       "      <td>2008</td>\n",
       "      <td>action</td>\n",
       "      <td>0.29</td>\n",
       "      <td>0.28</td>\n",
       "      <td>0.01</td>\n",
       "      <td>0.07</td>\n",
       "      <td>54.0</td>\n",
       "      <td>7.5</td>\n",
       "      <td>T</td>\n",
       "      <td>00e</td>\n",
       "    </tr>\n",
       "    <tr>\n",
       "      <th>1293</th>\n",
       "      <td>007: Quantum of Solace</td>\n",
       "      <td>X360</td>\n",
       "      <td>2008</td>\n",
       "      <td>action</td>\n",
       "      <td>0.82</td>\n",
       "      <td>0.51</td>\n",
       "      <td>0.01</td>\n",
       "      <td>0.14</td>\n",
       "      <td>65.0</td>\n",
       "      <td>7.1</td>\n",
       "      <td>T</td>\n",
       "      <td>00e</td>\n",
       "    </tr>\n",
       "  </tbody>\n",
       "</table>\n",
       "</div>"
      ],
      "text/plain": [
       "                                              name platform year_of_release  \\\n",
       "15191                               Beyblade Burst      3DS            2016   \n",
       "1086                             Fire Emblem Fates      3DS            2015   \n",
       "3394                          Frozen: Olaf's Quest      3DS            2013   \n",
       "3906                          Frozen: Olaf's Quest       DS            2013   \n",
       "13983                   Haikyu!! Cross Team Match!      3DS            2016   \n",
       "2478                             Tales of Xillia 2      PS3            2012   \n",
       "4782                                   '98 Koshien       PS            1998   \n",
       "8460                    .hack//G.U. Vol.1//Rebirth      PS2            2006   \n",
       "7182                  .hack//G.U. Vol.2//Reminisce      PS2            2006   \n",
       "8719       .hack//G.U. Vol.2//Reminisce (jp sales)      PS2            2006   \n",
       "8410                 .hack//G.U. Vol.3//Redemption      PS2            2007   \n",
       "1575                       .hack//Infection Part 1      PS2            2002   \n",
       "9189                                   .hack//Link      PSP            2010   \n",
       "3023                        .hack//Mutation Part 2      PS2            2002   \n",
       "4313                        .hack//Outbreak Part 3      PS2            2002   \n",
       "8098   .hack//Quarantine Part 4: The Final Chapter      PS2            2003   \n",
       "14525            .hack: Sekai no Mukou ni + Versus      PS3            2012   \n",
       "3800                                    007 Racing       PS            2000   \n",
       "3153                        007: Quantum of Solace      Wii            2008   \n",
       "1293                        007: Quantum of Solace     X360            2008   \n",
       "\n",
       "              genre  na_sales  eu_sales  jp_sales  other_sales  critic_score  \\\n",
       "15191  role-playing      0.00      0.00      0.03         0.00          -1.0   \n",
       "1086   role-playing      0.81      0.23      0.52         0.11          -1.0   \n",
       "3394       platform      0.27      0.27      0.00         0.05          -1.0   \n",
       "3906       platform      0.21      0.26      0.00         0.04          -1.0   \n",
       "13983     adventure      0.00      0.00      0.04         0.00          -1.0   \n",
       "2478   role-playing      0.20      0.12      0.45         0.07          71.0   \n",
       "4782         sports      0.15      0.10      0.12         0.03          -1.0   \n",
       "8460   role-playing      0.00      0.00      0.17         0.00          -1.0   \n",
       "7182   role-playing      0.11      0.09      0.00         0.03          -1.0   \n",
       "8719   role-playing      0.00      0.00      0.16         0.00          -1.0   \n",
       "8410   role-playing      0.00      0.00      0.17         0.00          -1.0   \n",
       "1575   role-playing      0.49      0.38      0.26         0.13          75.0   \n",
       "9189   role-playing      0.00      0.00      0.14         0.00          -1.0   \n",
       "3023   role-playing      0.23      0.18      0.20         0.06          76.0   \n",
       "4313   role-playing      0.14      0.11      0.17         0.04          70.0   \n",
       "8098   role-playing      0.09      0.07      0.00         0.02          -1.0   \n",
       "14525        action      0.00      0.00      0.03         0.00          -1.0   \n",
       "3800         racing      0.30      0.20      0.00         0.03          51.0   \n",
       "3153         action      0.29      0.28      0.01         0.07          54.0   \n",
       "1293         action      0.82      0.51      0.01         0.14          65.0   \n",
       "\n",
       "       user_score rating year_group  \n",
       "15191        -1.0    nan        10e  \n",
       "1086         -1.0    nan        10e  \n",
       "3394         -1.0    nan        10e  \n",
       "3906         -1.0    nan        10e  \n",
       "13983        -1.0    nan        10e  \n",
       "2478          7.9      T        10e  \n",
       "4782         -1.0    nan        90e  \n",
       "8460         -1.0    nan        00e  \n",
       "7182         -1.0    nan        00e  \n",
       "8719         -1.0    nan        00e  \n",
       "8410         -1.0    nan        00e  \n",
       "1575          8.5      T        00e  \n",
       "9189         -1.0    nan        00e  \n",
       "3023          8.9      T        00e  \n",
       "4313          8.7      T        00e  \n",
       "8098         -1.0    nan        00e  \n",
       "14525        -1.0    nan        10e  \n",
       "3800          4.6      T        90e  \n",
       "3153          7.5      T        00e  \n",
       "1293          7.1      T        00e  "
      ]
     },
     "execution_count": 120,
     "metadata": {},
     "output_type": "execute_result"
    }
   ],
   "source": [
    "df_cleaned.sort_values(by ='name').head(20) #Сортируем по названию и убеждаемся в отсутствии явных дубликатов"
   ]
  },
  {
   "cell_type": "markdown",
   "id": "f24aeca0-290f-4cca-88ea-a3252f0a24b9",
   "metadata": {},
   "source": [
    "В столбце жанр были выявлены дубликаты из-за влияния регистра. => Перевели все значения столбца жанр в нижний регистр для исключения дубликатов.\\\n",
    "В столбце рейтинг встречается значение, которое уже не используется => Переименовываем его на актуальное.\\\n",
    "Во всем датафрейме выявлено 241 явный дубликат => Удаляем явные дубликаты во всем дф, т.к один фильм может быть размещен на разных платформах и иметь отличные показатели продаж, которые мы сохраним, если возьмем весь дата-фрейм\\\n",
    "Проверка => Сортируем по названию и убеждаемся в отсутствии явных дубликатов"
   ]
  },
  {
   "cell_type": "code",
   "execution_count": 122,
   "id": "d3b1b3bd-9fce-4db0-a8c3-5f14a9984726",
   "metadata": {},
   "outputs": [
    {
     "data": {
      "text/plain": [
       "1.421"
      ]
     },
     "execution_count": 122,
     "metadata": {},
     "output_type": "execute_result"
    }
   ],
   "source": [
    "round(1-(len(df_cleaned)/len(df)),5)*100 #Процент удаленных строк "
   ]
  },
  {
   "cell_type": "code",
   "execution_count": 123,
   "id": "ff7fd5e2-c5dd-4c57-9607-ee452d2c810f",
   "metadata": {},
   "outputs": [
    {
     "data": {
      "text/plain": [
       "241"
      ]
     },
     "execution_count": 123,
     "metadata": {},
     "output_type": "execute_result"
    }
   ],
   "source": [
    "len(df)-len(df_cleaned) #Количество удаленных строк. Удалили мы только явные дубликаты, а это 241 строка"
   ]
  },
  {
   "cell_type": "markdown",
   "id": "7f6b7d59-253d-4d69-a7c5-0f685664f9cf",
   "metadata": {},
   "source": [
    "В результате проведенной предобработки данные приведены в соответствие, а именно: \\\n",
    "*наименования столбцом и типы данных в них скорректированы для удобства работы с ними; \\\n",
    "*исключены дубликаты, связанные с особенностями регистра; \\\n",
    "*исправлены некорректные значения в столбце рейтинга; \\\n",
    "*удалена 241 строка с явными дубликатами данных, что составляет 1,42% от общего количества строк в дф. \\\n",
    "Кроме того, для удобства работы с данными был создан категориальный столбец, иллюстрирующий группу по дате выхода фильма year_group."
   ]
  },
  {
   "cell_type": "markdown",
   "id": "a17fded4-77c9-4657-853f-63e19187db68",
   "metadata": {},
   "source": [
    "## 3. Фильтрация данных\n"
   ]
  },
  {
   "cell_type": "code",
   "execution_count": 127,
   "id": "aaee74a6-c320-4a88-914c-c807fffa8683",
   "metadata": {},
   "outputs": [],
   "source": [
    "df_actual = df_cleaned[(df_cleaned['year_of_release'].astype('float')>=2000) &(df_cleaned['year_of_release'].astype('float')<=2013)].copy() #Фильтруем необходимый срез по годам"
   ]
  },
  {
   "cell_type": "code",
   "execution_count": 129,
   "id": "69750473-f5dd-4561-9ff5-5a56bdd575d3",
   "metadata": {},
   "outputs": [
    {
     "data": {
      "text/plain": [
       "12781"
      ]
     },
     "execution_count": 129,
     "metadata": {},
     "output_type": "execute_result"
    }
   ],
   "source": [
    "len(df_actual) # В конечном срезе получилось 12781 строка"
   ]
  },
  {
   "cell_type": "markdown",
   "id": "44c0f30d-313c-4a41-91d3-448c28de88c1",
   "metadata": {},
   "source": [
    "## 4. Категоризация данных\n"
   ]
  },
  {
   "cell_type": "code",
   "execution_count": 131,
   "id": "5144a00f-aaf7-4dc8-bf43-a1d45e6518f4",
   "metadata": {},
   "outputs": [],
   "source": [
    "df_actual['user_rating_category']=pd.cut(df_actual['user_score'],bins=[0,3,8,10],right=False,labels=[\"низкая оценка\",\"средняя оценка\",\"высокая оценка\"]) #Разделим все игры по оценкам пользователей на 3 категории"
   ]
  },
  {
   "cell_type": "markdown",
   "id": "54460c96-a786-45b1-9163-3047104b515d",
   "metadata": {},
   "source": []
  },
  {
   "cell_type": "code",
   "execution_count": 133,
   "id": "5c62835e-285c-44ec-a5b8-3fae84fd7b6e",
   "metadata": {},
   "outputs": [],
   "source": [
    "df_actual['critic_raiting_category']=pd.cut(df_actual['critic_score'],bins=[0,30,80,100],right=False,labels=[\"низкая оценка\",\"средняя оценка\",\"высокая оценка\"]) #Разделим все игры по оценкам критиков на 3 категории"
   ]
  },
  {
   "cell_type": "code",
   "execution_count": 135,
   "id": "857a5542-4814-47d7-b035-b4bce83f1bce",
   "metadata": {},
   "outputs": [],
   "source": [
    "grouped_data_rating=df_actual.groupby(['user_rating_category','critic_raiting_category'], as_index=False)['name'].count() #Группируем данные по оценкам критиков и пользователей и выводим количество фильмов в каждой группе"
   ]
  },
  {
   "cell_type": "code",
   "execution_count": 136,
   "id": "e3207c37-01cd-4a5b-acc8-c5152b1ea32b",
   "metadata": {},
   "outputs": [
    {
     "data": {
      "text/html": [
       "<div>\n",
       "<style scoped>\n",
       "    .dataframe tbody tr th:only-of-type {\n",
       "        vertical-align: middle;\n",
       "    }\n",
       "\n",
       "    .dataframe tbody tr th {\n",
       "        vertical-align: top;\n",
       "    }\n",
       "\n",
       "    .dataframe thead th {\n",
       "        text-align: right;\n",
       "    }\n",
       "</style>\n",
       "<table border=\"1\" class=\"dataframe\">\n",
       "  <thead>\n",
       "    <tr style=\"text-align: right;\">\n",
       "      <th></th>\n",
       "      <th>user_rating_category</th>\n",
       "      <th>critic_raiting_category</th>\n",
       "      <th>name</th>\n",
       "    </tr>\n",
       "  </thead>\n",
       "  <tbody>\n",
       "    <tr>\n",
       "      <th>0</th>\n",
       "      <td>низкая оценка</td>\n",
       "      <td>низкая оценка</td>\n",
       "      <td>17</td>\n",
       "    </tr>\n",
       "    <tr>\n",
       "      <th>1</th>\n",
       "      <td>низкая оценка</td>\n",
       "      <td>средняя оценка</td>\n",
       "      <td>77</td>\n",
       "    </tr>\n",
       "    <tr>\n",
       "      <th>2</th>\n",
       "      <td>низкая оценка</td>\n",
       "      <td>высокая оценка</td>\n",
       "      <td>1</td>\n",
       "    </tr>\n",
       "    <tr>\n",
       "      <th>3</th>\n",
       "      <td>средняя оценка</td>\n",
       "      <td>низкая оценка</td>\n",
       "      <td>30</td>\n",
       "    </tr>\n",
       "    <tr>\n",
       "      <th>4</th>\n",
       "      <td>средняя оценка</td>\n",
       "      <td>средняя оценка</td>\n",
       "      <td>3157</td>\n",
       "    </tr>\n",
       "    <tr>\n",
       "      <th>5</th>\n",
       "      <td>средняя оценка</td>\n",
       "      <td>высокая оценка</td>\n",
       "      <td>641</td>\n",
       "    </tr>\n",
       "    <tr>\n",
       "      <th>6</th>\n",
       "      <td>высокая оценка</td>\n",
       "      <td>низкая оценка</td>\n",
       "      <td>1</td>\n",
       "    </tr>\n",
       "    <tr>\n",
       "      <th>7</th>\n",
       "      <td>высокая оценка</td>\n",
       "      <td>средняя оценка</td>\n",
       "      <td>1167</td>\n",
       "    </tr>\n",
       "    <tr>\n",
       "      <th>8</th>\n",
       "      <td>высокая оценка</td>\n",
       "      <td>высокая оценка</td>\n",
       "      <td>1017</td>\n",
       "    </tr>\n",
       "  </tbody>\n",
       "</table>\n",
       "</div>"
      ],
      "text/plain": [
       "  user_rating_category critic_raiting_category  name\n",
       "0        низкая оценка           низкая оценка    17\n",
       "1        низкая оценка          средняя оценка    77\n",
       "2        низкая оценка          высокая оценка     1\n",
       "3       средняя оценка           низкая оценка    30\n",
       "4       средняя оценка          средняя оценка  3157\n",
       "5       средняя оценка          высокая оценка   641\n",
       "6       высокая оценка           низкая оценка     1\n",
       "7       высокая оценка          средняя оценка  1167\n",
       "8       высокая оценка          высокая оценка  1017"
      ]
     },
     "execution_count": 136,
     "metadata": {},
     "output_type": "execute_result"
    }
   ],
   "source": [
    "grouped_data_rating.head(9) #выводим группированные и агрегированные данные"
   ]
  },
  {
   "cell_type": "code",
   "execution_count": 137,
   "id": "05c439c4-494c-4774-b6ac-da1fc1513157",
   "metadata": {},
   "outputs": [],
   "source": [
    "grouped_data_platform=df_actual.groupby('platform')['name'].count() #Группируем данные по платформе выпуска фильма и выводим количество фильмов в каждой группе"
   ]
  },
  {
   "cell_type": "code",
   "execution_count": 138,
   "id": "240a1162-3754-4315-a4aa-688ae8393b94",
   "metadata": {},
   "outputs": [],
   "source": [
    "ordered=grouped_data_platform.sort_values(ascending=False) #Сортируем данные по убыванию количества фильмов на платформе"
   ]
  },
  {
   "cell_type": "code",
   "execution_count": 139,
   "id": "86e29a93-ed22-48d0-9dc8-d26b255f8816",
   "metadata": {},
   "outputs": [
    {
     "data": {
      "text/plain": [
       "platform\n",
       "PS2     2127\n",
       "DS      2120\n",
       "Wii     1275\n",
       "PSP     1180\n",
       "X360    1121\n",
       "PS3     1087\n",
       "GBA      811\n",
       "Name: name, dtype: int64"
      ]
     },
     "execution_count": 139,
     "metadata": {},
     "output_type": "execute_result"
    }
   ],
   "source": [
    "ordered.head(7) #Выводим первые 7 платформ по максимальному количеству фильмов. Топ готов."
   ]
  },
  {
   "cell_type": "markdown",
   "id": "a94eee0b-1685-4f89-b738-765d5b0203a9",
   "metadata": {},
   "source": [
    "## 5. Итоговый вывод"
   ]
  },
  {
   "cell_type": "markdown",
   "id": "bfd57811-8c2c-406b-add3-f797292b6836",
   "metadata": {},
   "source": [
    "В данном проекте была проведена работа по знакомству с представленными данными. Мы выгрузили информацию, рассмотрели размеры таблицы, столбцы и типы данных в них. На следующем шаге провели обработку данных, а именно заполнили пропуски где это возможно, скорректировали наименования стобцов для работы с ними, привели в соответствие типы данных, очистили таблицу от дубликатов. Далее была проведена категоризация данных по оценкам критиков и пользователей, а также мы категоризовали дату выхода фильма, определив категории по десятилетиям. На финальном шаге провели фильтрацию данных по запрашиваемым временным рамкам,а затем сгруппировали данные по фильмам в разрезе платформ, а также категорий оценок критиков и пользователей. \n",
    "В результате получили срез актуальных данных на исследуемом периоде (2000-2013 год), сгруппированый и агрегированный по запрашиваемым показателям. В конечном счете получили несколько новых столбцов категорий оценок пользователей и критиков, а также группы года релиза фильма."
   ]
  }
 ],
 "metadata": {
  "ExecuteTimeLog": [
   {
    "duration": 426,
    "start_time": "2025-01-25T16:21:31.045Z"
   },
   {
    "duration": 3,
    "start_time": "2025-01-25T16:21:31.473Z"
   },
   {
    "duration": 117,
    "start_time": "2025-01-25T16:21:31.478Z"
   },
   {
    "duration": 19,
    "start_time": "2025-01-25T16:21:31.598Z"
   },
   {
    "duration": 27,
    "start_time": "2025-01-25T16:21:31.619Z"
   },
   {
    "duration": 17,
    "start_time": "2025-01-25T16:21:31.647Z"
   },
   {
    "duration": 81,
    "start_time": "2025-01-25T16:21:31.666Z"
   },
   {
    "duration": 9,
    "start_time": "2025-01-25T16:21:31.749Z"
   },
   {
    "duration": 13,
    "start_time": "2025-01-25T16:21:31.760Z"
   },
   {
    "duration": 10,
    "start_time": "2025-01-25T16:21:31.777Z"
   },
   {
    "duration": 9,
    "start_time": "2025-01-25T16:21:31.789Z"
   },
   {
    "duration": 36,
    "start_time": "2025-01-25T16:21:31.800Z"
   },
   {
    "duration": 16,
    "start_time": "2025-01-25T16:21:31.843Z"
   },
   {
    "duration": 38,
    "start_time": "2025-01-25T16:21:31.861Z"
   },
   {
    "duration": 11,
    "start_time": "2025-01-25T16:21:31.901Z"
   },
   {
    "duration": 22,
    "start_time": "2025-01-25T16:21:31.913Z"
   },
   {
    "duration": 11,
    "start_time": "2025-01-25T16:21:31.939Z"
   },
   {
    "duration": 36,
    "start_time": "2025-01-25T16:21:31.952Z"
   },
   {
    "duration": 21,
    "start_time": "2025-01-25T16:21:31.990Z"
   },
   {
    "duration": 31,
    "start_time": "2025-01-25T16:21:32.014Z"
   },
   {
    "duration": 3153,
    "start_time": "2025-01-25T16:21:32.048Z"
   },
   {
    "duration": 8,
    "start_time": "2025-01-25T16:21:35.203Z"
   },
   {
    "duration": 38,
    "start_time": "2025-01-25T16:21:35.212Z"
   },
   {
    "duration": 24,
    "start_time": "2025-01-25T16:21:35.252Z"
   },
   {
    "duration": 17,
    "start_time": "2025-01-25T16:21:35.277Z"
   },
   {
    "duration": 8,
    "start_time": "2025-01-25T16:21:35.296Z"
   },
   {
    "duration": 54,
    "start_time": "2025-01-25T16:21:35.306Z"
   },
   {
    "duration": 25,
    "start_time": "2025-01-25T16:21:35.363Z"
   },
   {
    "duration": 23,
    "start_time": "2025-01-25T16:21:35.389Z"
   },
   {
    "duration": 12,
    "start_time": "2025-01-25T16:21:35.414Z"
   },
   {
    "duration": 47,
    "start_time": "2025-01-25T16:21:35.428Z"
   },
   {
    "duration": 5,
    "start_time": "2025-01-25T16:21:35.476Z"
   },
   {
    "duration": 23,
    "start_time": "2025-01-25T16:21:35.483Z"
   },
   {
    "duration": 8,
    "start_time": "2025-01-25T16:21:35.507Z"
   },
   {
    "duration": 18,
    "start_time": "2025-01-25T16:21:35.517Z"
   },
   {
    "duration": 44,
    "start_time": "2025-01-25T16:21:35.537Z"
   },
   {
    "duration": 16,
    "start_time": "2025-01-25T16:21:35.583Z"
   },
   {
    "duration": 34,
    "start_time": "2025-01-25T16:21:35.601Z"
   },
   {
    "duration": 16,
    "start_time": "2025-01-25T16:21:35.645Z"
   },
   {
    "duration": 33,
    "start_time": "2025-01-25T16:21:35.663Z"
   },
   {
    "duration": 49,
    "start_time": "2025-01-25T16:21:35.698Z"
   },
   {
    "duration": 45,
    "start_time": "2025-01-25T16:21:35.749Z"
   },
   {
    "duration": 463,
    "start_time": "2025-01-25T18:58:58.803Z"
   },
   {
    "duration": 3,
    "start_time": "2025-01-25T18:58:59.268Z"
   },
   {
    "duration": 95,
    "start_time": "2025-01-25T18:58:59.273Z"
   },
   {
    "duration": 19,
    "start_time": "2025-01-25T18:58:59.370Z"
   },
   {
    "duration": 29,
    "start_time": "2025-01-25T18:58:59.391Z"
   },
   {
    "duration": 24,
    "start_time": "2025-01-25T18:58:59.422Z"
   },
   {
    "duration": 27,
    "start_time": "2025-01-25T18:58:59.448Z"
   },
   {
    "duration": 6,
    "start_time": "2025-01-25T18:58:59.477Z"
   },
   {
    "duration": 5,
    "start_time": "2025-01-25T18:58:59.485Z"
   },
   {
    "duration": 5,
    "start_time": "2025-01-25T18:58:59.492Z"
   },
   {
    "duration": 33,
    "start_time": "2025-01-25T18:58:59.498Z"
   },
   {
    "duration": 27,
    "start_time": "2025-01-25T18:58:59.534Z"
   },
   {
    "duration": 17,
    "start_time": "2025-01-25T18:58:59.563Z"
   },
   {
    "duration": 6,
    "start_time": "2025-01-25T18:58:59.583Z"
   },
   {
    "duration": 55,
    "start_time": "2025-01-25T18:58:59.591Z"
   },
   {
    "duration": 9,
    "start_time": "2025-01-25T18:58:59.648Z"
   },
   {
    "duration": 5,
    "start_time": "2025-01-25T18:58:59.659Z"
   },
   {
    "duration": 9,
    "start_time": "2025-01-25T18:58:59.665Z"
   },
   {
    "duration": 7,
    "start_time": "2025-01-25T18:58:59.676Z"
   },
   {
    "duration": 21,
    "start_time": "2025-01-25T18:58:59.684Z"
   },
   {
    "duration": 3048,
    "start_time": "2025-01-25T18:58:59.707Z"
   },
   {
    "duration": 8,
    "start_time": "2025-01-25T18:59:02.756Z"
   },
   {
    "duration": 28,
    "start_time": "2025-01-25T18:59:02.766Z"
   },
   {
    "duration": 12,
    "start_time": "2025-01-25T18:59:02.796Z"
   },
   {
    "duration": 25,
    "start_time": "2025-01-25T18:59:02.810Z"
   },
   {
    "duration": 39,
    "start_time": "2025-01-25T18:59:02.837Z"
   },
   {
    "duration": 30,
    "start_time": "2025-01-25T18:59:02.878Z"
   },
   {
    "duration": 59,
    "start_time": "2025-01-25T18:59:02.910Z"
   },
   {
    "duration": 33,
    "start_time": "2025-01-25T18:59:02.971Z"
   },
   {
    "duration": 49,
    "start_time": "2025-01-25T18:59:03.006Z"
   },
   {
    "duration": 37,
    "start_time": "2025-01-25T18:59:03.057Z"
   },
   {
    "duration": 39,
    "start_time": "2025-01-25T18:59:03.096Z"
   },
   {
    "duration": 4,
    "start_time": "2025-01-25T18:59:03.137Z"
   },
   {
    "duration": 103,
    "start_time": "2025-01-25T18:59:03.142Z"
   },
   {
    "duration": 102,
    "start_time": "2025-01-25T18:59:03.247Z"
   },
   {
    "duration": 28,
    "start_time": "2025-01-25T18:59:03.351Z"
   },
   {
    "duration": 11,
    "start_time": "2025-01-25T18:59:03.380Z"
   },
   {
    "duration": 17,
    "start_time": "2025-01-25T18:59:03.392Z"
   },
   {
    "duration": 50,
    "start_time": "2025-01-25T18:59:03.411Z"
   },
   {
    "duration": 27,
    "start_time": "2025-01-25T18:59:03.463Z"
   },
   {
    "duration": 35,
    "start_time": "2025-01-25T18:59:03.495Z"
   },
   {
    "duration": 19,
    "start_time": "2025-01-25T18:59:03.532Z"
   },
   {
    "duration": 16,
    "start_time": "2025-01-25T18:59:03.553Z"
   },
   {
    "duration": 4,
    "start_time": "2025-01-25T19:01:06.775Z"
   },
   {
    "duration": 48,
    "start_time": "2025-01-26T09:17:17.227Z"
   },
   {
    "duration": 394,
    "start_time": "2025-01-26T09:17:31.338Z"
   },
   {
    "duration": 95,
    "start_time": "2025-01-26T09:17:33.610Z"
   },
   {
    "duration": 4,
    "start_time": "2025-01-26T09:17:48.047Z"
   },
   {
    "duration": 4,
    "start_time": "2025-01-26T09:18:29.485Z"
   },
   {
    "duration": 89,
    "start_time": "2025-01-26T09:19:15.836Z"
   },
   {
    "duration": 3,
    "start_time": "2025-01-26T09:19:24.932Z"
   },
   {
    "duration": 2,
    "start_time": "2025-01-26T09:19:25.897Z"
   },
   {
    "duration": 29,
    "start_time": "2025-01-26T09:20:12.867Z"
   },
   {
    "duration": 8,
    "start_time": "2025-01-26T09:20:16.186Z"
   },
   {
    "duration": 8,
    "start_time": "2025-01-26T09:20:23.081Z"
   },
   {
    "duration": 11,
    "start_time": "2025-01-26T09:20:28.261Z"
   },
   {
    "duration": 421,
    "start_time": "2025-01-26T09:21:29.932Z"
   },
   {
    "duration": 99,
    "start_time": "2025-01-26T09:21:30.355Z"
   },
   {
    "duration": 17,
    "start_time": "2025-01-26T09:21:30.456Z"
   },
   {
    "duration": 36,
    "start_time": "2025-01-26T09:21:30.476Z"
   },
   {
    "duration": 29,
    "start_time": "2025-01-26T09:21:30.514Z"
   },
   {
    "duration": 12,
    "start_time": "2025-01-26T09:21:30.545Z"
   },
   {
    "duration": 56,
    "start_time": "2025-01-26T09:21:30.559Z"
   },
   {
    "duration": 29,
    "start_time": "2025-01-26T09:21:30.616Z"
   },
   {
    "duration": 54,
    "start_time": "2025-01-26T09:21:30.646Z"
   },
   {
    "duration": 52,
    "start_time": "2025-01-26T09:21:30.704Z"
   },
   {
    "duration": 9,
    "start_time": "2025-01-26T09:21:30.757Z"
   },
   {
    "duration": 21,
    "start_time": "2025-01-26T09:21:30.768Z"
   },
   {
    "duration": 29,
    "start_time": "2025-01-26T09:21:30.791Z"
   },
   {
    "duration": 27,
    "start_time": "2025-01-26T09:21:30.822Z"
   },
   {
    "duration": 6,
    "start_time": "2025-01-26T09:21:30.850Z"
   },
   {
    "duration": 30,
    "start_time": "2025-01-26T09:21:30.858Z"
   },
   {
    "duration": 14,
    "start_time": "2025-01-26T09:21:30.890Z"
   },
   {
    "duration": 8,
    "start_time": "2025-01-26T09:21:30.906Z"
   },
   {
    "duration": 16,
    "start_time": "2025-01-26T09:21:30.916Z"
   },
   {
    "duration": 30,
    "start_time": "2025-01-26T09:21:30.933Z"
   },
   {
    "duration": 67,
    "start_time": "2025-01-26T09:21:30.964Z"
   },
   {
    "duration": 2772,
    "start_time": "2025-01-26T09:21:31.032Z"
   },
   {
    "duration": 6,
    "start_time": "2025-01-26T09:21:33.805Z"
   },
   {
    "duration": 22,
    "start_time": "2025-01-26T09:21:33.812Z"
   },
   {
    "duration": 11,
    "start_time": "2025-01-26T09:21:33.835Z"
   },
   {
    "duration": 8,
    "start_time": "2025-01-26T09:21:33.848Z"
   },
   {
    "duration": 7,
    "start_time": "2025-01-26T09:21:33.857Z"
   },
   {
    "duration": 22,
    "start_time": "2025-01-26T09:21:33.868Z"
   },
   {
    "duration": 19,
    "start_time": "2025-01-26T09:21:33.891Z"
   },
   {
    "duration": 19,
    "start_time": "2025-01-26T09:21:33.912Z"
   },
   {
    "duration": 13,
    "start_time": "2025-01-26T09:21:33.932Z"
   },
   {
    "duration": 66,
    "start_time": "2025-01-26T09:21:33.947Z"
   },
   {
    "duration": 26,
    "start_time": "2025-01-26T09:21:34.014Z"
   },
   {
    "duration": 31,
    "start_time": "2025-01-26T09:21:34.041Z"
   },
   {
    "duration": 44,
    "start_time": "2025-01-26T09:21:34.074Z"
   },
   {
    "duration": 19,
    "start_time": "2025-01-26T09:21:34.119Z"
   },
   {
    "duration": 44,
    "start_time": "2025-01-26T09:21:34.140Z"
   },
   {
    "duration": 37,
    "start_time": "2025-01-26T09:21:34.186Z"
   },
   {
    "duration": 78,
    "start_time": "2025-01-26T09:21:34.225Z"
   },
   {
    "duration": 48,
    "start_time": "2025-01-26T09:21:34.305Z"
   },
   {
    "duration": 34,
    "start_time": "2025-01-26T09:21:34.354Z"
   },
   {
    "duration": 52,
    "start_time": "2025-01-26T09:21:34.390Z"
   },
   {
    "duration": 39,
    "start_time": "2025-01-26T09:21:34.444Z"
   },
   {
    "duration": 85,
    "start_time": "2025-01-26T09:22:50.868Z"
   },
   {
    "duration": 89,
    "start_time": "2025-01-26T09:23:05.190Z"
   },
   {
    "duration": 117,
    "start_time": "2025-01-26T09:23:24.056Z"
   },
   {
    "duration": 89,
    "start_time": "2025-01-26T09:23:30.859Z"
   },
   {
    "duration": 115,
    "start_time": "2025-01-26T09:23:35.444Z"
   },
   {
    "duration": 1431,
    "start_time": "2025-01-26T09:29:16.137Z"
   },
   {
    "duration": 3,
    "start_time": "2025-01-26T09:29:26.166Z"
   },
   {
    "duration": 5,
    "start_time": "2025-01-26T09:29:37.290Z"
   },
   {
    "duration": 94,
    "start_time": "2025-01-26T09:29:44.303Z"
   },
   {
    "duration": 4,
    "start_time": "2025-01-26T09:29:47.443Z"
   },
   {
    "duration": 4,
    "start_time": "2025-01-26T09:30:10.820Z"
   },
   {
    "duration": 411,
    "start_time": "2025-01-26T09:30:20.918Z"
   },
   {
    "duration": 98,
    "start_time": "2025-01-26T09:30:21.330Z"
   },
   {
    "duration": 15,
    "start_time": "2025-01-26T09:30:21.430Z"
   },
   {
    "duration": 23,
    "start_time": "2025-01-26T09:30:21.446Z"
   },
   {
    "duration": 15,
    "start_time": "2025-01-26T09:30:21.471Z"
   },
   {
    "duration": 17,
    "start_time": "2025-01-26T09:30:21.487Z"
   },
   {
    "duration": 19,
    "start_time": "2025-01-26T09:30:21.505Z"
   },
   {
    "duration": 21,
    "start_time": "2025-01-26T09:30:21.525Z"
   },
   {
    "duration": 4,
    "start_time": "2025-01-26T09:30:21.548Z"
   },
   {
    "duration": 6,
    "start_time": "2025-01-26T09:30:21.554Z"
   },
   {
    "duration": 6,
    "start_time": "2025-01-26T09:30:21.561Z"
   },
   {
    "duration": 7,
    "start_time": "2025-01-26T09:30:21.568Z"
   },
   {
    "duration": 42,
    "start_time": "2025-01-26T09:30:21.576Z"
   },
   {
    "duration": 3,
    "start_time": "2025-01-26T09:30:21.622Z"
   },
   {
    "duration": 15,
    "start_time": "2025-01-26T09:30:21.627Z"
   },
   {
    "duration": 4,
    "start_time": "2025-01-26T09:30:21.644Z"
   },
   {
    "duration": 7,
    "start_time": "2025-01-26T09:30:21.650Z"
   },
   {
    "duration": 6,
    "start_time": "2025-01-26T09:30:21.659Z"
   },
   {
    "duration": 6,
    "start_time": "2025-01-26T09:30:21.667Z"
   },
   {
    "duration": 35,
    "start_time": "2025-01-26T09:30:21.674Z"
   },
   {
    "duration": 14,
    "start_time": "2025-01-26T09:30:21.710Z"
   },
   {
    "duration": 31,
    "start_time": "2025-01-26T09:30:21.726Z"
   },
   {
    "duration": 2629,
    "start_time": "2025-01-26T09:30:21.759Z"
   },
   {
    "duration": 6,
    "start_time": "2025-01-26T09:30:24.390Z"
   },
   {
    "duration": 23,
    "start_time": "2025-01-26T09:30:24.397Z"
   },
   {
    "duration": 6,
    "start_time": "2025-01-26T09:30:24.421Z"
   },
   {
    "duration": 5,
    "start_time": "2025-01-26T09:30:24.428Z"
   },
   {
    "duration": 15,
    "start_time": "2025-01-26T09:30:24.435Z"
   },
   {
    "duration": 16,
    "start_time": "2025-01-26T09:30:24.452Z"
   },
   {
    "duration": 5,
    "start_time": "2025-01-26T09:30:24.470Z"
   },
   {
    "duration": 13,
    "start_time": "2025-01-26T09:30:24.476Z"
   },
   {
    "duration": 12,
    "start_time": "2025-01-26T09:30:24.490Z"
   },
   {
    "duration": 49,
    "start_time": "2025-01-26T09:30:24.503Z"
   },
   {
    "duration": 4,
    "start_time": "2025-01-26T09:30:24.554Z"
   },
   {
    "duration": 5,
    "start_time": "2025-01-26T09:30:24.559Z"
   },
   {
    "duration": 8,
    "start_time": "2025-01-26T09:30:24.565Z"
   },
   {
    "duration": 4,
    "start_time": "2025-01-26T09:30:24.574Z"
   },
   {
    "duration": 5,
    "start_time": "2025-01-26T09:30:24.579Z"
   },
   {
    "duration": 39,
    "start_time": "2025-01-26T09:30:24.585Z"
   },
   {
    "duration": 18,
    "start_time": "2025-01-26T09:30:24.625Z"
   },
   {
    "duration": 8,
    "start_time": "2025-01-26T09:30:24.647Z"
   },
   {
    "duration": 5,
    "start_time": "2025-01-26T09:30:24.656Z"
   },
   {
    "duration": 3,
    "start_time": "2025-01-26T09:30:24.663Z"
   },
   {
    "duration": 6,
    "start_time": "2025-01-26T09:30:24.667Z"
   },
   {
    "duration": 5,
    "start_time": "2025-01-26T09:32:14.120Z"
   },
   {
    "duration": 86,
    "start_time": "2025-01-26T09:37:48.941Z"
   },
   {
    "duration": 64,
    "start_time": "2025-01-26T09:37:53.946Z"
   },
   {
    "duration": 28,
    "start_time": "2025-01-26T09:38:56.133Z"
   },
   {
    "duration": 42,
    "start_time": "2025-01-26T09:39:10.628Z"
   },
   {
    "duration": 423,
    "start_time": "2025-01-26T09:40:58.109Z"
   },
   {
    "duration": 107,
    "start_time": "2025-01-26T09:40:58.534Z"
   },
   {
    "duration": 16,
    "start_time": "2025-01-26T09:40:58.642Z"
   },
   {
    "duration": 18,
    "start_time": "2025-01-26T09:40:58.660Z"
   },
   {
    "duration": 24,
    "start_time": "2025-01-26T09:40:58.681Z"
   },
   {
    "duration": 17,
    "start_time": "2025-01-26T09:40:58.706Z"
   },
   {
    "duration": 13,
    "start_time": "2025-01-26T09:40:58.724Z"
   },
   {
    "duration": 59,
    "start_time": "2025-01-26T09:40:58.738Z"
   },
   {
    "duration": 5,
    "start_time": "2025-01-26T09:40:58.798Z"
   },
   {
    "duration": 5,
    "start_time": "2025-01-26T09:40:58.805Z"
   },
   {
    "duration": 9,
    "start_time": "2025-01-26T09:40:58.811Z"
   },
   {
    "duration": 21,
    "start_time": "2025-01-26T09:40:58.822Z"
   },
   {
    "duration": 58,
    "start_time": "2025-01-26T09:40:58.844Z"
   },
   {
    "duration": 17,
    "start_time": "2025-01-26T09:40:58.905Z"
   },
   {
    "duration": 3,
    "start_time": "2025-01-26T09:40:58.924Z"
   },
   {
    "duration": 13,
    "start_time": "2025-01-26T09:40:58.929Z"
   },
   {
    "duration": 4,
    "start_time": "2025-01-26T09:40:58.943Z"
   },
   {
    "duration": 13,
    "start_time": "2025-01-26T09:40:58.949Z"
   },
   {
    "duration": 19,
    "start_time": "2025-01-26T09:40:58.963Z"
   },
   {
    "duration": 12,
    "start_time": "2025-01-26T09:40:58.983Z"
   },
   {
    "duration": 11,
    "start_time": "2025-01-26T09:40:58.996Z"
   },
   {
    "duration": 14,
    "start_time": "2025-01-26T09:40:59.009Z"
   },
   {
    "duration": 20,
    "start_time": "2025-01-26T09:40:59.025Z"
   },
   {
    "duration": 2596,
    "start_time": "2025-01-26T09:40:59.046Z"
   },
   {
    "duration": 6,
    "start_time": "2025-01-26T09:41:01.644Z"
   },
   {
    "duration": 65,
    "start_time": "2025-01-26T09:41:01.651Z"
   },
   {
    "duration": 18,
    "start_time": "2025-01-26T09:41:01.718Z"
   },
   {
    "duration": 49,
    "start_time": "2025-01-26T09:41:01.738Z"
   },
   {
    "duration": 60,
    "start_time": "2025-01-26T09:41:01.789Z"
   },
   {
    "duration": 26,
    "start_time": "2025-01-26T09:41:01.851Z"
   },
   {
    "duration": 20,
    "start_time": "2025-01-26T09:41:01.879Z"
   },
   {
    "duration": 41,
    "start_time": "2025-01-26T09:41:01.900Z"
   },
   {
    "duration": 13,
    "start_time": "2025-01-26T09:41:01.943Z"
   },
   {
    "duration": 35,
    "start_time": "2025-01-26T09:41:01.957Z"
   },
   {
    "duration": 4,
    "start_time": "2025-01-26T09:41:01.994Z"
   },
   {
    "duration": 7,
    "start_time": "2025-01-26T09:41:01.999Z"
   },
   {
    "duration": 40,
    "start_time": "2025-01-26T09:41:02.008Z"
   },
   {
    "duration": 20,
    "start_time": "2025-01-26T09:41:02.050Z"
   },
   {
    "duration": 23,
    "start_time": "2025-01-26T09:41:02.072Z"
   },
   {
    "duration": 11,
    "start_time": "2025-01-26T09:41:02.097Z"
   },
   {
    "duration": 47,
    "start_time": "2025-01-26T09:41:02.111Z"
   },
   {
    "duration": 9,
    "start_time": "2025-01-26T09:41:02.160Z"
   },
   {
    "duration": 12,
    "start_time": "2025-01-26T09:41:02.171Z"
   },
   {
    "duration": 10,
    "start_time": "2025-01-26T09:41:02.185Z"
   },
   {
    "duration": 14,
    "start_time": "2025-01-26T09:41:02.197Z"
   },
   {
    "duration": 4,
    "start_time": "2025-01-26T09:49:14.228Z"
   },
   {
    "duration": 82,
    "start_time": "2025-01-26T09:51:24.649Z"
   },
   {
    "duration": 86,
    "start_time": "2025-01-26T09:52:04.259Z"
   },
   {
    "duration": 99,
    "start_time": "2025-01-26T09:53:26.401Z"
   },
   {
    "duration": 115,
    "start_time": "2025-01-26T09:54:27.555Z"
   },
   {
    "duration": 7,
    "start_time": "2025-01-26T09:54:32.808Z"
   },
   {
    "duration": 1260,
    "start_time": "2025-01-26T09:57:40.043Z"
   },
   {
    "duration": 9,
    "start_time": "2025-01-26T09:57:51.919Z"
   },
   {
    "duration": 9,
    "start_time": "2025-01-26T09:59:08.027Z"
   },
   {
    "duration": 7,
    "start_time": "2025-01-26T09:59:17.551Z"
   },
   {
    "duration": 7,
    "start_time": "2025-01-26T09:59:21.539Z"
   },
   {
    "duration": 364,
    "start_time": "2025-01-26T09:59:38.374Z"
   },
   {
    "duration": 99,
    "start_time": "2025-01-26T09:59:38.740Z"
   },
   {
    "duration": 17,
    "start_time": "2025-01-26T09:59:38.841Z"
   },
   {
    "duration": 44,
    "start_time": "2025-01-26T09:59:38.860Z"
   },
   {
    "duration": 32,
    "start_time": "2025-01-26T09:59:38.906Z"
   },
   {
    "duration": 31,
    "start_time": "2025-01-26T09:59:38.940Z"
   },
   {
    "duration": 49,
    "start_time": "2025-01-26T09:59:38.972Z"
   },
   {
    "duration": 11,
    "start_time": "2025-01-26T09:59:39.022Z"
   },
   {
    "duration": 16,
    "start_time": "2025-01-26T09:59:39.034Z"
   },
   {
    "duration": 23,
    "start_time": "2025-01-26T09:59:39.051Z"
   },
   {
    "duration": 31,
    "start_time": "2025-01-26T09:59:39.076Z"
   },
   {
    "duration": 98,
    "start_time": "2025-01-26T09:59:39.109Z"
   },
   {
    "duration": 77,
    "start_time": "2025-01-26T09:59:39.209Z"
   },
   {
    "duration": 17,
    "start_time": "2025-01-26T09:59:39.289Z"
   },
   {
    "duration": 13,
    "start_time": "2025-01-26T09:59:39.308Z"
   },
   {
    "duration": 13,
    "start_time": "2025-01-26T09:59:39.322Z"
   },
   {
    "duration": 11,
    "start_time": "2025-01-26T09:59:39.337Z"
   },
   {
    "duration": 19,
    "start_time": "2025-01-26T09:59:39.350Z"
   },
   {
    "duration": 11,
    "start_time": "2025-01-26T09:59:39.370Z"
   },
   {
    "duration": 9,
    "start_time": "2025-01-26T09:59:39.382Z"
   },
   {
    "duration": 6,
    "start_time": "2025-01-26T09:59:39.393Z"
   },
   {
    "duration": 19,
    "start_time": "2025-01-26T09:59:39.400Z"
   },
   {
    "duration": 25,
    "start_time": "2025-01-26T09:59:39.420Z"
   },
   {
    "duration": 1811,
    "start_time": "2025-01-26T09:59:39.446Z"
   },
   {
    "duration": 5,
    "start_time": "2025-01-26T09:59:41.259Z"
   },
   {
    "duration": 8,
    "start_time": "2025-01-26T09:59:41.266Z"
   },
   {
    "duration": 5,
    "start_time": "2025-01-26T09:59:41.275Z"
   },
   {
    "duration": 15,
    "start_time": "2025-01-26T09:59:41.282Z"
   },
   {
    "duration": 20,
    "start_time": "2025-01-26T09:59:41.298Z"
   },
   {
    "duration": 8,
    "start_time": "2025-01-26T09:59:41.321Z"
   },
   {
    "duration": 5,
    "start_time": "2025-01-26T09:59:41.330Z"
   },
   {
    "duration": 11,
    "start_time": "2025-01-26T09:59:41.336Z"
   },
   {
    "duration": 9,
    "start_time": "2025-01-26T09:59:41.348Z"
   },
   {
    "duration": 28,
    "start_time": "2025-01-26T09:59:41.359Z"
   },
   {
    "duration": 3,
    "start_time": "2025-01-26T09:59:41.389Z"
   },
   {
    "duration": 4,
    "start_time": "2025-01-26T09:59:41.421Z"
   },
   {
    "duration": 9,
    "start_time": "2025-01-26T09:59:41.426Z"
   },
   {
    "duration": 3,
    "start_time": "2025-01-26T09:59:41.437Z"
   },
   {
    "duration": 7,
    "start_time": "2025-01-26T09:59:41.441Z"
   },
   {
    "duration": 6,
    "start_time": "2025-01-26T09:59:41.449Z"
   },
   {
    "duration": 10,
    "start_time": "2025-01-26T09:59:41.458Z"
   },
   {
    "duration": 7,
    "start_time": "2025-01-26T09:59:41.470Z"
   },
   {
    "duration": 13,
    "start_time": "2025-01-26T09:59:41.478Z"
   },
   {
    "duration": 29,
    "start_time": "2025-01-26T09:59:41.493Z"
   },
   {
    "duration": 5,
    "start_time": "2025-01-26T09:59:41.523Z"
   },
   {
    "duration": 10,
    "start_time": "2025-01-26T10:00:06.419Z"
   },
   {
    "duration": 81,
    "start_time": "2025-01-26T10:02:09.108Z"
   },
   {
    "duration": 61,
    "start_time": "2025-01-26T10:06:54.727Z"
   },
   {
    "duration": 7,
    "start_time": "2025-01-26T10:06:57.459Z"
   },
   {
    "duration": 6,
    "start_time": "2025-01-26T10:07:21.426Z"
   },
   {
    "duration": 6,
    "start_time": "2025-01-26T10:07:43.518Z"
   },
   {
    "duration": 397,
    "start_time": "2025-01-26T10:07:53.741Z"
   },
   {
    "duration": 103,
    "start_time": "2025-01-26T10:07:54.139Z"
   },
   {
    "duration": 17,
    "start_time": "2025-01-26T10:07:54.244Z"
   },
   {
    "duration": 16,
    "start_time": "2025-01-26T10:07:54.263Z"
   },
   {
    "duration": 15,
    "start_time": "2025-01-26T10:07:54.281Z"
   },
   {
    "duration": 14,
    "start_time": "2025-01-26T10:07:54.322Z"
   },
   {
    "duration": 5,
    "start_time": "2025-01-26T10:07:54.337Z"
   },
   {
    "duration": 3,
    "start_time": "2025-01-26T10:07:54.344Z"
   },
   {
    "duration": 7,
    "start_time": "2025-01-26T10:07:54.349Z"
   },
   {
    "duration": 5,
    "start_time": "2025-01-26T10:07:54.357Z"
   },
   {
    "duration": 17,
    "start_time": "2025-01-26T10:07:54.363Z"
   },
   {
    "duration": 5,
    "start_time": "2025-01-26T10:07:54.382Z"
   },
   {
    "duration": 61,
    "start_time": "2025-01-26T10:07:54.389Z"
   },
   {
    "duration": 17,
    "start_time": "2025-01-26T10:07:54.453Z"
   },
   {
    "duration": 3,
    "start_time": "2025-01-26T10:07:54.472Z"
   },
   {
    "duration": 26,
    "start_time": "2025-01-26T10:07:54.477Z"
   },
   {
    "duration": 5,
    "start_time": "2025-01-26T10:07:54.505Z"
   },
   {
    "duration": 7,
    "start_time": "2025-01-26T10:07:54.522Z"
   },
   {
    "duration": 12,
    "start_time": "2025-01-26T10:07:54.530Z"
   },
   {
    "duration": 9,
    "start_time": "2025-01-26T10:07:54.543Z"
   },
   {
    "duration": 80,
    "start_time": "2025-01-26T10:07:54.553Z"
   },
   {
    "duration": 0,
    "start_time": "2025-01-26T10:07:54.634Z"
   },
   {
    "duration": 0,
    "start_time": "2025-01-26T10:07:54.636Z"
   },
   {
    "duration": 0,
    "start_time": "2025-01-26T10:07:54.637Z"
   },
   {
    "duration": 0,
    "start_time": "2025-01-26T10:07:54.638Z"
   },
   {
    "duration": 0,
    "start_time": "2025-01-26T10:07:54.639Z"
   },
   {
    "duration": 0,
    "start_time": "2025-01-26T10:07:54.641Z"
   },
   {
    "duration": 0,
    "start_time": "2025-01-26T10:07:54.642Z"
   },
   {
    "duration": 0,
    "start_time": "2025-01-26T10:07:54.643Z"
   },
   {
    "duration": 0,
    "start_time": "2025-01-26T10:07:54.644Z"
   },
   {
    "duration": 0,
    "start_time": "2025-01-26T10:07:54.645Z"
   },
   {
    "duration": 0,
    "start_time": "2025-01-26T10:07:54.646Z"
   },
   {
    "duration": 0,
    "start_time": "2025-01-26T10:07:54.648Z"
   },
   {
    "duration": 0,
    "start_time": "2025-01-26T10:07:54.649Z"
   },
   {
    "duration": 0,
    "start_time": "2025-01-26T10:07:54.650Z"
   },
   {
    "duration": 0,
    "start_time": "2025-01-26T10:07:54.651Z"
   },
   {
    "duration": 0,
    "start_time": "2025-01-26T10:07:54.652Z"
   },
   {
    "duration": 0,
    "start_time": "2025-01-26T10:07:54.653Z"
   },
   {
    "duration": 0,
    "start_time": "2025-01-26T10:07:54.655Z"
   },
   {
    "duration": 0,
    "start_time": "2025-01-26T10:07:54.656Z"
   },
   {
    "duration": 0,
    "start_time": "2025-01-26T10:07:54.657Z"
   },
   {
    "duration": 0,
    "start_time": "2025-01-26T10:07:54.658Z"
   },
   {
    "duration": 0,
    "start_time": "2025-01-26T10:07:54.659Z"
   },
   {
    "duration": 0,
    "start_time": "2025-01-26T10:07:54.660Z"
   },
   {
    "duration": 0,
    "start_time": "2025-01-26T10:07:54.661Z"
   },
   {
    "duration": 0,
    "start_time": "2025-01-26T10:07:54.662Z"
   },
   {
    "duration": 0,
    "start_time": "2025-01-26T10:07:54.663Z"
   },
   {
    "duration": 419,
    "start_time": "2025-01-26T10:08:32.813Z"
   },
   {
    "duration": 91,
    "start_time": "2025-01-26T10:08:33.234Z"
   },
   {
    "duration": 16,
    "start_time": "2025-01-26T10:08:33.326Z"
   },
   {
    "duration": 23,
    "start_time": "2025-01-26T10:08:33.345Z"
   },
   {
    "duration": 23,
    "start_time": "2025-01-26T10:08:33.370Z"
   },
   {
    "duration": 21,
    "start_time": "2025-01-26T10:08:33.394Z"
   },
   {
    "duration": 5,
    "start_time": "2025-01-26T10:08:33.417Z"
   },
   {
    "duration": 7,
    "start_time": "2025-01-26T10:08:33.424Z"
   },
   {
    "duration": 7,
    "start_time": "2025-01-26T10:08:33.433Z"
   },
   {
    "duration": 15,
    "start_time": "2025-01-26T10:08:33.443Z"
   },
   {
    "duration": 8,
    "start_time": "2025-01-26T10:08:33.460Z"
   },
   {
    "duration": 23,
    "start_time": "2025-01-26T10:08:33.470Z"
   },
   {
    "duration": 60,
    "start_time": "2025-01-26T10:08:33.494Z"
   },
   {
    "duration": 18,
    "start_time": "2025-01-26T10:08:33.555Z"
   },
   {
    "duration": 12,
    "start_time": "2025-01-26T10:08:33.574Z"
   },
   {
    "duration": 38,
    "start_time": "2025-01-26T10:08:33.587Z"
   },
   {
    "duration": 18,
    "start_time": "2025-01-26T10:08:33.627Z"
   },
   {
    "duration": 7,
    "start_time": "2025-01-26T10:08:33.646Z"
   },
   {
    "duration": 20,
    "start_time": "2025-01-26T10:08:33.655Z"
   },
   {
    "duration": 20,
    "start_time": "2025-01-26T10:08:33.676Z"
   },
   {
    "duration": 11,
    "start_time": "2025-01-26T10:08:33.698Z"
   },
   {
    "duration": 10,
    "start_time": "2025-01-26T10:08:33.710Z"
   },
   {
    "duration": 24,
    "start_time": "2025-01-26T10:08:33.721Z"
   },
   {
    "duration": 1781,
    "start_time": "2025-01-26T10:08:33.747Z"
   },
   {
    "duration": 6,
    "start_time": "2025-01-26T10:08:35.530Z"
   },
   {
    "duration": 30,
    "start_time": "2025-01-26T10:08:35.537Z"
   },
   {
    "duration": 29,
    "start_time": "2025-01-26T10:08:35.569Z"
   },
   {
    "duration": 1458,
    "start_time": "2025-01-26T10:08:35.602Z"
   },
   {
    "duration": 0,
    "start_time": "2025-01-26T10:08:37.062Z"
   },
   {
    "duration": 0,
    "start_time": "2025-01-26T10:08:37.064Z"
   },
   {
    "duration": 0,
    "start_time": "2025-01-26T10:08:37.065Z"
   },
   {
    "duration": 0,
    "start_time": "2025-01-26T10:08:37.067Z"
   },
   {
    "duration": 1,
    "start_time": "2025-01-26T10:08:37.068Z"
   },
   {
    "duration": 0,
    "start_time": "2025-01-26T10:08:37.070Z"
   },
   {
    "duration": 0,
    "start_time": "2025-01-26T10:08:37.071Z"
   },
   {
    "duration": 0,
    "start_time": "2025-01-26T10:08:37.073Z"
   },
   {
    "duration": 0,
    "start_time": "2025-01-26T10:08:37.074Z"
   },
   {
    "duration": 0,
    "start_time": "2025-01-26T10:08:37.075Z"
   },
   {
    "duration": 0,
    "start_time": "2025-01-26T10:08:37.077Z"
   },
   {
    "duration": 0,
    "start_time": "2025-01-26T10:08:37.078Z"
   },
   {
    "duration": 0,
    "start_time": "2025-01-26T10:08:37.080Z"
   },
   {
    "duration": 0,
    "start_time": "2025-01-26T10:08:37.081Z"
   },
   {
    "duration": 0,
    "start_time": "2025-01-26T10:08:37.083Z"
   },
   {
    "duration": 0,
    "start_time": "2025-01-26T10:08:37.084Z"
   },
   {
    "duration": 0,
    "start_time": "2025-01-26T10:08:37.085Z"
   },
   {
    "duration": 0,
    "start_time": "2025-01-26T10:08:37.087Z"
   },
   {
    "duration": 0,
    "start_time": "2025-01-26T10:08:37.088Z"
   },
   {
    "duration": 4,
    "start_time": "2025-01-26T10:09:00.838Z"
   },
   {
    "duration": 5,
    "start_time": "2025-01-26T10:09:10.180Z"
   },
   {
    "duration": 4,
    "start_time": "2025-01-26T10:09:29.915Z"
   },
   {
    "duration": 4,
    "start_time": "2025-01-26T10:10:04.340Z"
   },
   {
    "duration": 1363,
    "start_time": "2025-01-26T10:10:23.569Z"
   },
   {
    "duration": 4,
    "start_time": "2025-01-26T10:10:25.273Z"
   },
   {
    "duration": 12,
    "start_time": "2025-01-26T10:11:18.084Z"
   },
   {
    "duration": 11,
    "start_time": "2025-01-26T10:11:35.861Z"
   },
   {
    "duration": 413,
    "start_time": "2025-01-26T11:47:31.900Z"
   },
   {
    "duration": 86,
    "start_time": "2025-01-26T11:47:32.315Z"
   },
   {
    "duration": 16,
    "start_time": "2025-01-26T11:47:32.402Z"
   },
   {
    "duration": 27,
    "start_time": "2025-01-26T11:47:32.420Z"
   },
   {
    "duration": 24,
    "start_time": "2025-01-26T11:47:32.450Z"
   },
   {
    "duration": 14,
    "start_time": "2025-01-26T11:47:32.476Z"
   },
   {
    "duration": 26,
    "start_time": "2025-01-26T11:47:32.491Z"
   },
   {
    "duration": 11,
    "start_time": "2025-01-26T11:47:32.519Z"
   },
   {
    "duration": 9,
    "start_time": "2025-01-26T11:47:32.531Z"
   },
   {
    "duration": 5,
    "start_time": "2025-01-26T11:47:32.542Z"
   },
   {
    "duration": 17,
    "start_time": "2025-01-26T11:47:32.549Z"
   },
   {
    "duration": 6,
    "start_time": "2025-01-26T11:47:32.568Z"
   },
   {
    "duration": 49,
    "start_time": "2025-01-26T11:47:32.576Z"
   },
   {
    "duration": 18,
    "start_time": "2025-01-26T11:47:32.627Z"
   },
   {
    "duration": 3,
    "start_time": "2025-01-26T11:47:32.647Z"
   },
   {
    "duration": 23,
    "start_time": "2025-01-26T11:47:32.651Z"
   },
   {
    "duration": 7,
    "start_time": "2025-01-26T11:47:32.676Z"
   },
   {
    "duration": 25,
    "start_time": "2025-01-26T11:47:32.684Z"
   },
   {
    "duration": 22,
    "start_time": "2025-01-26T11:47:32.711Z"
   },
   {
    "duration": 30,
    "start_time": "2025-01-26T11:47:32.734Z"
   },
   {
    "duration": 28,
    "start_time": "2025-01-26T11:47:32.766Z"
   },
   {
    "duration": 32,
    "start_time": "2025-01-26T11:47:32.796Z"
   },
   {
    "duration": 33,
    "start_time": "2025-01-26T11:47:32.830Z"
   },
   {
    "duration": 1824,
    "start_time": "2025-01-26T11:47:32.865Z"
   },
   {
    "duration": 6,
    "start_time": "2025-01-26T11:47:34.690Z"
   },
   {
    "duration": 9,
    "start_time": "2025-01-26T11:47:34.698Z"
   },
   {
    "duration": 18,
    "start_time": "2025-01-26T11:47:34.709Z"
   },
   {
    "duration": 15,
    "start_time": "2025-01-26T11:47:34.729Z"
   },
   {
    "duration": 24,
    "start_time": "2025-01-26T11:47:34.745Z"
   },
   {
    "duration": 17,
    "start_time": "2025-01-26T11:47:34.771Z"
   },
   {
    "duration": 17,
    "start_time": "2025-01-26T11:47:34.790Z"
   },
   {
    "duration": 34,
    "start_time": "2025-01-26T11:47:34.809Z"
   },
   {
    "duration": 7,
    "start_time": "2025-01-26T11:47:34.844Z"
   },
   {
    "duration": 6,
    "start_time": "2025-01-26T11:47:34.853Z"
   },
   {
    "duration": 16,
    "start_time": "2025-01-26T11:47:34.860Z"
   },
   {
    "duration": 11,
    "start_time": "2025-01-26T11:47:34.878Z"
   },
   {
    "duration": 19,
    "start_time": "2025-01-26T11:47:34.890Z"
   },
   {
    "duration": 11,
    "start_time": "2025-01-26T11:47:34.911Z"
   },
   {
    "duration": 33,
    "start_time": "2025-01-26T11:47:34.923Z"
   },
   {
    "duration": 15,
    "start_time": "2025-01-26T11:47:34.958Z"
   },
   {
    "duration": 45,
    "start_time": "2025-01-26T11:47:34.977Z"
   },
   {
    "duration": 60,
    "start_time": "2025-01-26T11:47:35.023Z"
   },
   {
    "duration": 30,
    "start_time": "2025-01-26T11:47:35.085Z"
   },
   {
    "duration": 10,
    "start_time": "2025-01-26T11:47:35.116Z"
   },
   {
    "duration": 16,
    "start_time": "2025-01-26T11:47:35.127Z"
   },
   {
    "duration": 12,
    "start_time": "2025-01-26T11:47:35.145Z"
   },
   {
    "duration": 8,
    "start_time": "2025-01-26T11:47:35.158Z"
   },
   {
    "duration": 6,
    "start_time": "2025-01-26T11:47:35.167Z"
   },
   {
    "duration": 30,
    "start_time": "2025-01-26T11:47:35.175Z"
   },
   {
    "duration": 21,
    "start_time": "2025-01-26T11:47:35.207Z"
   },
   {
    "duration": 233,
    "start_time": "2025-01-26T18:27:07.067Z"
   },
   {
    "duration": 58,
    "start_time": "2025-01-26T18:27:12.572Z"
   },
   {
    "duration": 7,
    "start_time": "2025-01-26T18:27:19.267Z"
   },
   {
    "duration": 8,
    "start_time": "2025-01-26T18:27:32.253Z"
   },
   {
    "duration": 6,
    "start_time": "2025-01-26T18:27:40.232Z"
   },
   {
    "duration": 441,
    "start_time": "2025-01-26T18:27:53.766Z"
   },
   {
    "duration": 105,
    "start_time": "2025-01-26T18:27:54.209Z"
   },
   {
    "duration": 18,
    "start_time": "2025-01-26T18:27:54.315Z"
   },
   {
    "duration": 32,
    "start_time": "2025-01-26T18:27:54.335Z"
   },
   {
    "duration": 16,
    "start_time": "2025-01-26T18:27:54.368Z"
   },
   {
    "duration": 14,
    "start_time": "2025-01-26T18:27:54.386Z"
   },
   {
    "duration": 6,
    "start_time": "2025-01-26T18:27:54.401Z"
   },
   {
    "duration": 3,
    "start_time": "2025-01-26T18:27:54.408Z"
   },
   {
    "duration": 4,
    "start_time": "2025-01-26T18:27:54.412Z"
   },
   {
    "duration": 17,
    "start_time": "2025-01-26T18:27:54.419Z"
   },
   {
    "duration": 23,
    "start_time": "2025-01-26T18:27:54.438Z"
   },
   {
    "duration": 5,
    "start_time": "2025-01-26T18:27:54.462Z"
   },
   {
    "duration": 8,
    "start_time": "2025-01-26T18:27:54.469Z"
   },
   {
    "duration": 27,
    "start_time": "2025-01-26T18:27:54.479Z"
   },
   {
    "duration": 4,
    "start_time": "2025-01-26T18:27:54.507Z"
   },
   {
    "duration": 48,
    "start_time": "2025-01-26T18:27:54.513Z"
   },
   {
    "duration": 6,
    "start_time": "2025-01-26T18:27:54.562Z"
   },
   {
    "duration": 8,
    "start_time": "2025-01-26T18:27:54.570Z"
   },
   {
    "duration": 8,
    "start_time": "2025-01-26T18:27:54.580Z"
   },
   {
    "duration": 10,
    "start_time": "2025-01-26T18:27:54.590Z"
   },
   {
    "duration": 20,
    "start_time": "2025-01-26T18:27:54.601Z"
   },
   {
    "duration": 19,
    "start_time": "2025-01-26T18:27:54.623Z"
   },
   {
    "duration": 26,
    "start_time": "2025-01-26T18:27:54.644Z"
   },
   {
    "duration": 2109,
    "start_time": "2025-01-26T18:27:54.672Z"
   },
   {
    "duration": 6,
    "start_time": "2025-01-26T18:27:56.783Z"
   },
   {
    "duration": 8,
    "start_time": "2025-01-26T18:27:56.791Z"
   },
   {
    "duration": 5,
    "start_time": "2025-01-26T18:27:56.800Z"
   },
   {
    "duration": 5,
    "start_time": "2025-01-26T18:27:56.809Z"
   },
   {
    "duration": 7,
    "start_time": "2025-01-26T18:27:56.815Z"
   },
   {
    "duration": 4,
    "start_time": "2025-01-26T18:27:56.824Z"
   },
   {
    "duration": 33,
    "start_time": "2025-01-26T18:27:56.830Z"
   },
   {
    "duration": 9,
    "start_time": "2025-01-26T18:27:56.865Z"
   },
   {
    "duration": 7,
    "start_time": "2025-01-26T18:27:56.875Z"
   },
   {
    "duration": 15,
    "start_time": "2025-01-26T18:27:56.884Z"
   },
   {
    "duration": 6,
    "start_time": "2025-01-26T18:27:56.900Z"
   },
   {
    "duration": 8,
    "start_time": "2025-01-26T18:27:56.907Z"
   },
   {
    "duration": 47,
    "start_time": "2025-01-26T18:27:56.916Z"
   },
   {
    "duration": 13,
    "start_time": "2025-01-26T18:27:56.965Z"
   },
   {
    "duration": 36,
    "start_time": "2025-01-26T18:27:56.980Z"
   },
   {
    "duration": 5,
    "start_time": "2025-01-26T18:27:57.018Z"
   },
   {
    "duration": 36,
    "start_time": "2025-01-26T18:27:57.025Z"
   },
   {
    "duration": 12,
    "start_time": "2025-01-26T18:27:57.063Z"
   },
   {
    "duration": 11,
    "start_time": "2025-01-26T18:27:57.077Z"
   },
   {
    "duration": 15,
    "start_time": "2025-01-26T18:27:57.090Z"
   },
   {
    "duration": 33,
    "start_time": "2025-01-26T18:27:57.107Z"
   },
   {
    "duration": 22,
    "start_time": "2025-01-26T18:27:57.142Z"
   },
   {
    "duration": 9,
    "start_time": "2025-01-26T18:27:57.166Z"
   },
   {
    "duration": 19,
    "start_time": "2025-01-26T18:27:57.176Z"
   },
   {
    "duration": 12,
    "start_time": "2025-01-26T18:27:57.196Z"
   },
   {
    "duration": 21,
    "start_time": "2025-01-26T18:27:57.210Z"
   },
   {
    "duration": 10,
    "start_time": "2025-01-26T18:30:03.272Z"
   },
   {
    "duration": 6,
    "start_time": "2025-01-26T18:30:11.850Z"
   },
   {
    "duration": 474,
    "start_time": "2025-01-26T18:30:26.017Z"
   },
   {
    "duration": 100,
    "start_time": "2025-01-26T18:30:26.493Z"
   },
   {
    "duration": 19,
    "start_time": "2025-01-26T18:30:26.595Z"
   },
   {
    "duration": 18,
    "start_time": "2025-01-26T18:30:26.616Z"
   },
   {
    "duration": 39,
    "start_time": "2025-01-26T18:30:26.637Z"
   },
   {
    "duration": 15,
    "start_time": "2025-01-26T18:30:26.678Z"
   },
   {
    "duration": 4,
    "start_time": "2025-01-26T18:30:26.695Z"
   },
   {
    "duration": 5,
    "start_time": "2025-01-26T18:30:26.701Z"
   },
   {
    "duration": 3,
    "start_time": "2025-01-26T18:30:26.708Z"
   },
   {
    "duration": 6,
    "start_time": "2025-01-26T18:30:26.713Z"
   },
   {
    "duration": 40,
    "start_time": "2025-01-26T18:30:26.721Z"
   },
   {
    "duration": 6,
    "start_time": "2025-01-26T18:30:26.763Z"
   },
   {
    "duration": 12,
    "start_time": "2025-01-26T18:30:26.771Z"
   },
   {
    "duration": 21,
    "start_time": "2025-01-26T18:30:26.786Z"
   },
   {
    "duration": 4,
    "start_time": "2025-01-26T18:30:26.809Z"
   },
   {
    "duration": 52,
    "start_time": "2025-01-26T18:30:26.815Z"
   },
   {
    "duration": 6,
    "start_time": "2025-01-26T18:30:26.869Z"
   },
   {
    "duration": 10,
    "start_time": "2025-01-26T18:30:26.876Z"
   },
   {
    "duration": 17,
    "start_time": "2025-01-26T18:30:26.887Z"
   },
   {
    "duration": 10,
    "start_time": "2025-01-26T18:30:26.905Z"
   },
   {
    "duration": 6,
    "start_time": "2025-01-26T18:30:26.917Z"
   },
   {
    "duration": 38,
    "start_time": "2025-01-26T18:30:26.925Z"
   },
   {
    "duration": 21,
    "start_time": "2025-01-26T18:30:26.965Z"
   },
   {
    "duration": 2111,
    "start_time": "2025-01-26T18:30:26.988Z"
   },
   {
    "duration": 6,
    "start_time": "2025-01-26T18:30:29.101Z"
   },
   {
    "duration": 20,
    "start_time": "2025-01-26T18:30:29.109Z"
   },
   {
    "duration": 6,
    "start_time": "2025-01-26T18:30:29.130Z"
   },
   {
    "duration": 24,
    "start_time": "2025-01-26T18:30:29.138Z"
   },
   {
    "duration": 25,
    "start_time": "2025-01-26T18:30:29.164Z"
   },
   {
    "duration": 15,
    "start_time": "2025-01-26T18:30:29.192Z"
   },
   {
    "duration": 13,
    "start_time": "2025-01-26T18:30:29.209Z"
   },
   {
    "duration": 12,
    "start_time": "2025-01-26T18:30:29.225Z"
   },
   {
    "duration": 46,
    "start_time": "2025-01-26T18:30:29.239Z"
   },
   {
    "duration": 23,
    "start_time": "2025-01-26T18:30:29.287Z"
   },
   {
    "duration": 13,
    "start_time": "2025-01-26T18:30:29.312Z"
   },
   {
    "duration": 24,
    "start_time": "2025-01-26T18:30:29.326Z"
   },
   {
    "duration": 18,
    "start_time": "2025-01-26T18:30:29.352Z"
   },
   {
    "duration": 16,
    "start_time": "2025-01-26T18:30:29.371Z"
   },
   {
    "duration": 37,
    "start_time": "2025-01-26T18:30:29.388Z"
   },
   {
    "duration": 5,
    "start_time": "2025-01-26T18:30:29.427Z"
   },
   {
    "duration": 30,
    "start_time": "2025-01-26T18:30:29.435Z"
   },
   {
    "duration": 40,
    "start_time": "2025-01-26T18:30:29.467Z"
   },
   {
    "duration": 12,
    "start_time": "2025-01-26T18:30:29.508Z"
   },
   {
    "duration": 7,
    "start_time": "2025-01-26T18:30:29.521Z"
   },
   {
    "duration": 22,
    "start_time": "2025-01-26T18:30:29.530Z"
   },
   {
    "duration": 27,
    "start_time": "2025-01-26T18:30:29.554Z"
   },
   {
    "duration": 14,
    "start_time": "2025-01-26T18:30:29.583Z"
   },
   {
    "duration": 31,
    "start_time": "2025-01-26T18:30:29.599Z"
   },
   {
    "duration": 15,
    "start_time": "2025-01-26T18:30:29.631Z"
   },
   {
    "duration": 10,
    "start_time": "2025-01-26T18:30:29.648Z"
   },
   {
    "duration": 5,
    "start_time": "2025-01-26T18:33:22.280Z"
   },
   {
    "duration": 6,
    "start_time": "2025-01-26T18:33:30.576Z"
   },
   {
    "duration": 7,
    "start_time": "2025-01-26T18:34:09.144Z"
   },
   {
    "duration": 449,
    "start_time": "2025-01-26T18:34:35.953Z"
   },
   {
    "duration": 126,
    "start_time": "2025-01-26T18:34:36.404Z"
   },
   {
    "duration": 18,
    "start_time": "2025-01-26T18:34:36.532Z"
   },
   {
    "duration": 36,
    "start_time": "2025-01-26T18:34:36.552Z"
   },
   {
    "duration": 29,
    "start_time": "2025-01-26T18:34:36.590Z"
   },
   {
    "duration": 17,
    "start_time": "2025-01-26T18:34:36.621Z"
   },
   {
    "duration": 14,
    "start_time": "2025-01-26T18:34:36.640Z"
   },
   {
    "duration": 13,
    "start_time": "2025-01-26T18:34:36.656Z"
   },
   {
    "duration": 26,
    "start_time": "2025-01-26T18:34:36.670Z"
   },
   {
    "duration": 22,
    "start_time": "2025-01-26T18:34:36.699Z"
   },
   {
    "duration": 24,
    "start_time": "2025-01-26T18:34:36.723Z"
   },
   {
    "duration": 15,
    "start_time": "2025-01-26T18:34:36.749Z"
   },
   {
    "duration": 22,
    "start_time": "2025-01-26T18:34:36.766Z"
   },
   {
    "duration": 33,
    "start_time": "2025-01-26T18:34:36.789Z"
   },
   {
    "duration": 9,
    "start_time": "2025-01-26T18:34:36.824Z"
   },
   {
    "duration": 17,
    "start_time": "2025-01-26T18:34:36.834Z"
   },
   {
    "duration": 7,
    "start_time": "2025-01-26T18:34:36.853Z"
   },
   {
    "duration": 8,
    "start_time": "2025-01-26T18:34:36.862Z"
   },
   {
    "duration": 21,
    "start_time": "2025-01-26T18:34:36.872Z"
   },
   {
    "duration": 10,
    "start_time": "2025-01-26T18:34:36.894Z"
   },
   {
    "duration": 9,
    "start_time": "2025-01-26T18:34:36.906Z"
   },
   {
    "duration": 13,
    "start_time": "2025-01-26T18:34:36.917Z"
   },
   {
    "duration": 31,
    "start_time": "2025-01-26T18:34:36.932Z"
   },
   {
    "duration": 2019,
    "start_time": "2025-01-26T18:34:36.965Z"
   },
   {
    "duration": 6,
    "start_time": "2025-01-26T18:34:38.985Z"
   },
   {
    "duration": 12,
    "start_time": "2025-01-26T18:34:38.993Z"
   },
   {
    "duration": 9,
    "start_time": "2025-01-26T18:34:39.007Z"
   },
   {
    "duration": 10,
    "start_time": "2025-01-26T18:34:39.020Z"
   },
   {
    "duration": 5,
    "start_time": "2025-01-26T18:34:39.032Z"
   },
   {
    "duration": 23,
    "start_time": "2025-01-26T18:34:39.039Z"
   },
   {
    "duration": 5,
    "start_time": "2025-01-26T18:34:39.064Z"
   },
   {
    "duration": 6,
    "start_time": "2025-01-26T18:34:39.070Z"
   },
   {
    "duration": 7,
    "start_time": "2025-01-26T18:34:39.078Z"
   },
   {
    "duration": 10,
    "start_time": "2025-01-26T18:34:39.086Z"
   },
   {
    "duration": 6,
    "start_time": "2025-01-26T18:34:39.097Z"
   },
   {
    "duration": 5,
    "start_time": "2025-01-26T18:34:39.104Z"
   },
   {
    "duration": 53,
    "start_time": "2025-01-26T18:34:39.110Z"
   },
   {
    "duration": 11,
    "start_time": "2025-01-26T18:34:39.165Z"
   },
   {
    "duration": 33,
    "start_time": "2025-01-26T18:34:39.178Z"
   },
   {
    "duration": 4,
    "start_time": "2025-01-26T18:34:39.213Z"
   },
   {
    "duration": 6,
    "start_time": "2025-01-26T18:34:39.219Z"
   },
   {
    "duration": 34,
    "start_time": "2025-01-26T18:34:39.227Z"
   },
   {
    "duration": 4,
    "start_time": "2025-01-26T18:34:39.262Z"
   },
   {
    "duration": 56,
    "start_time": "2025-01-26T18:34:39.268Z"
   },
   {
    "duration": 39,
    "start_time": "2025-01-26T18:34:39.325Z"
   },
   {
    "duration": 14,
    "start_time": "2025-01-26T18:34:39.365Z"
   },
   {
    "duration": 18,
    "start_time": "2025-01-26T18:34:39.381Z"
   },
   {
    "duration": 32,
    "start_time": "2025-01-26T18:34:39.401Z"
   },
   {
    "duration": 5,
    "start_time": "2025-01-26T18:34:39.435Z"
   },
   {
    "duration": 7,
    "start_time": "2025-01-26T18:34:39.442Z"
   },
   {
    "duration": 89,
    "start_time": "2025-01-26T18:37:46.037Z"
   },
   {
    "duration": 7,
    "start_time": "2025-01-26T18:38:39.600Z"
   },
   {
    "duration": 8,
    "start_time": "2025-01-26T18:39:59.717Z"
   },
   {
    "duration": 9,
    "start_time": "2025-01-26T18:40:05.512Z"
   },
   {
    "duration": 79,
    "start_time": "2025-01-26T18:44:53.235Z"
   },
   {
    "duration": 7,
    "start_time": "2025-01-26T18:45:36.966Z"
   },
   {
    "duration": 8,
    "start_time": "2025-01-26T18:50:20.814Z"
   },
   {
    "duration": 20,
    "start_time": "2025-01-26T18:50:48.445Z"
   },
   {
    "duration": 18,
    "start_time": "2025-01-26T18:50:55.509Z"
   },
   {
    "duration": 18,
    "start_time": "2025-01-26T19:00:42.527Z"
   },
   {
    "duration": 416,
    "start_time": "2025-01-26T19:57:23.672Z"
   },
   {
    "duration": 103,
    "start_time": "2025-01-26T19:57:24.091Z"
   },
   {
    "duration": 18,
    "start_time": "2025-01-26T19:57:24.196Z"
   },
   {
    "duration": 15,
    "start_time": "2025-01-26T19:57:24.216Z"
   },
   {
    "duration": 15,
    "start_time": "2025-01-26T19:57:24.232Z"
   },
   {
    "duration": 13,
    "start_time": "2025-01-26T19:57:24.270Z"
   },
   {
    "duration": 4,
    "start_time": "2025-01-26T19:57:24.284Z"
   },
   {
    "duration": 10,
    "start_time": "2025-01-26T19:57:24.290Z"
   },
   {
    "duration": 6,
    "start_time": "2025-01-26T19:57:24.301Z"
   },
   {
    "duration": 7,
    "start_time": "2025-01-26T19:57:24.309Z"
   },
   {
    "duration": 13,
    "start_time": "2025-01-26T19:57:24.318Z"
   },
   {
    "duration": 9,
    "start_time": "2025-01-26T19:57:24.332Z"
   },
   {
    "duration": 12,
    "start_time": "2025-01-26T19:57:24.342Z"
   },
   {
    "duration": 30,
    "start_time": "2025-01-26T19:57:24.355Z"
   },
   {
    "duration": 11,
    "start_time": "2025-01-26T19:57:24.387Z"
   },
   {
    "duration": 23,
    "start_time": "2025-01-26T19:57:24.399Z"
   },
   {
    "duration": 4,
    "start_time": "2025-01-26T19:57:24.423Z"
   },
   {
    "duration": 13,
    "start_time": "2025-01-26T19:57:24.429Z"
   },
   {
    "duration": 20,
    "start_time": "2025-01-26T19:57:24.443Z"
   },
   {
    "duration": 7,
    "start_time": "2025-01-26T19:57:24.465Z"
   },
   {
    "duration": 8,
    "start_time": "2025-01-26T19:57:24.473Z"
   },
   {
    "duration": 6,
    "start_time": "2025-01-26T19:57:24.482Z"
   },
   {
    "duration": 18,
    "start_time": "2025-01-26T19:57:24.490Z"
   },
   {
    "duration": 2745,
    "start_time": "2025-01-26T19:57:24.509Z"
   },
   {
    "duration": 6,
    "start_time": "2025-01-26T19:57:27.255Z"
   },
   {
    "duration": 7,
    "start_time": "2025-01-26T19:57:27.271Z"
   },
   {
    "duration": 9,
    "start_time": "2025-01-26T19:57:27.279Z"
   },
   {
    "duration": 4,
    "start_time": "2025-01-26T19:57:27.291Z"
   },
   {
    "duration": 5,
    "start_time": "2025-01-26T19:57:27.297Z"
   },
   {
    "duration": 5,
    "start_time": "2025-01-26T19:57:27.304Z"
   },
   {
    "duration": 17,
    "start_time": "2025-01-26T19:57:27.310Z"
   },
   {
    "duration": 31,
    "start_time": "2025-01-26T19:57:27.328Z"
   },
   {
    "duration": 9,
    "start_time": "2025-01-26T19:57:27.360Z"
   },
   {
    "duration": 23,
    "start_time": "2025-01-26T19:57:27.371Z"
   },
   {
    "duration": 5,
    "start_time": "2025-01-26T19:57:27.395Z"
   },
   {
    "duration": 5,
    "start_time": "2025-01-26T19:57:27.402Z"
   },
   {
    "duration": 18,
    "start_time": "2025-01-26T19:57:27.408Z"
   },
   {
    "duration": 11,
    "start_time": "2025-01-26T19:57:27.428Z"
   },
   {
    "duration": 45,
    "start_time": "2025-01-26T19:57:27.440Z"
   },
   {
    "duration": 5,
    "start_time": "2025-01-26T19:57:27.487Z"
   },
   {
    "duration": 14,
    "start_time": "2025-01-26T19:57:27.494Z"
   },
   {
    "duration": 10,
    "start_time": "2025-01-26T19:57:27.509Z"
   },
   {
    "duration": 12,
    "start_time": "2025-01-26T19:57:27.520Z"
   },
   {
    "duration": 7,
    "start_time": "2025-01-26T19:57:27.533Z"
   },
   {
    "duration": 10,
    "start_time": "2025-01-26T19:57:27.541Z"
   },
   {
    "duration": 25,
    "start_time": "2025-01-26T19:57:27.553Z"
   },
   {
    "duration": 13,
    "start_time": "2025-01-26T19:57:27.579Z"
   },
   {
    "duration": 11,
    "start_time": "2025-01-26T19:57:27.593Z"
   },
   {
    "duration": 8,
    "start_time": "2025-01-26T19:57:27.605Z"
   },
   {
    "duration": 6,
    "start_time": "2025-01-26T19:57:27.615Z"
   }
  ],
  "kernelspec": {
   "display_name": "anaconda-2022.05-py39",
   "language": "python",
   "name": "conda-env-anaconda-2022.05-py39-py"
  },
  "language_info": {
   "codemirror_mode": {
    "name": "ipython",
    "version": 3
   },
   "file_extension": ".py",
   "mimetype": "text/x-python",
   "name": "python",
   "nbconvert_exporter": "python",
   "pygments_lexer": "ipython3",
   "version": "3.9.12"
  },
  "toc": {
   "base_numbering": 1,
   "nav_menu": {},
   "number_sections": true,
   "sideBar": true,
   "skip_h1_title": true,
   "title_cell": "Table of Contents",
   "title_sidebar": "Contents",
   "toc_cell": false,
   "toc_position": {},
   "toc_section_display": true,
   "toc_window_display": false
  }
 },
 "nbformat": 4,
 "nbformat_minor": 5
}
